{
 "cells": [
  {
   "cell_type": "markdown",
   "metadata": {
    "cell_id": "d25c046ee9c14f6794bc8ae04725264b",
    "deepnote_cell_type": "markdown"
   },
   "source": [
    "<br>\n",
    "<br>\n",
    "\n",
    "<p style='color:red;'><b>본 실습 중 다뤄지는 코드의 경우 구글 번역 웹사이트의 정책 및 소스코드 변경에 따라 일부가 정상적으로 작동하지 않을 수 있습니다.</b></p>\n",
    "<p style='color:red;'>구글 번역 웹사이트의 구조 변경으로 인해 코드가 실행되지 않을 시, 각 <b>태그의 XPath(XML Path Language)를 복사하여 덮어쓰기</b>할 경우 작동될 가능성이 높습니다.</p>"
   ]
  },
  {
   "cell_type": "code",
   "execution_count": 1,
   "metadata": {
    "cell_id": "421556c150f5404098b062efce4cecb6",
    "deepnote_cell_type": "code",
    "deepnote_to_be_reexecuted": false,
    "execution_millis": 8140,
    "execution_start": 1680007577617,
    "is_output_hidden": true,
    "source_hash": "ea22c22c"
   },
   "outputs": [
    {
     "name": "stdout",
     "output_type": "stream",
     "text": [
      "Collecting openpyxl\n",
      "  Downloading openpyxl-3.1.2-py2.py3-none-any.whl (249 kB)\n",
      "\u001b[2K     \u001b[90m━━━━━━━━━━━━━━━━━━━━━━━━━━━━━━━━━━━━━━\u001b[0m \u001b[32m250.0/250.0 KB\u001b[0m \u001b[31m10.4 MB/s\u001b[0m eta \u001b[36m0:00:00\u001b[0m\n",
      "\u001b[?25hCollecting et-xmlfile\n",
      "  Downloading et_xmlfile-1.1.0-py3-none-any.whl (4.7 kB)\n",
      "Installing collected packages: et-xmlfile, openpyxl\n",
      "Successfully installed et-xmlfile-1.1.0 openpyxl-3.1.2\n",
      "\u001b[33mWARNING: You are using pip version 22.0.4; however, version 23.0.1 is available.\n",
      "You should consider upgrading via the '/root/venv/bin/python -m pip install --upgrade pip' command.\u001b[0m\u001b[33m\n",
      "\u001b[0m"
     ]
    }
   ],
   "source": [
    "!pip install openpyxl"
   ]
  },
  {
   "cell_type": "code",
   "execution_count": 2,
   "metadata": {
    "cell_id": "372f0eabe6f84320a72ad0b64190a25c",
    "deepnote_cell_type": "code",
    "deepnote_to_be_reexecuted": false,
    "execution_millis": 6841,
    "execution_start": 1680007585747,
    "is_output_hidden": true,
    "scrolled": true,
    "source_hash": "329b4290"
   },
   "outputs": [
    {
     "name": "stdout",
     "output_type": "stream",
     "text": [
      "Collecting selenium==4.1.0\n",
      "  Downloading selenium-4.1.0-py3-none-any.whl (958 kB)\n",
      "\u001b[2K     \u001b[90m━━━━━━━━━━━━━━━━━━━━━━━━━━━━━━━━━━━━━━\u001b[0m \u001b[32m958.8/958.8 KB\u001b[0m \u001b[31m30.9 MB/s\u001b[0m eta \u001b[36m0:00:00\u001b[0m\n",
      "\u001b[?25hCollecting trio~=0.17\n",
      "  Downloading trio-0.22.0-py3-none-any.whl (384 kB)\n",
      "\u001b[2K     \u001b[90m━━━━━━━━━━━━━━━━━━━━━━━━━━━━━━━━━━━━━━\u001b[0m \u001b[32m384.9/384.9 KB\u001b[0m \u001b[31m57.9 MB/s\u001b[0m eta \u001b[36m0:00:00\u001b[0m\n",
      "\u001b[?25hRequirement already satisfied: urllib3[secure]~=1.26 in /shared-libs/python3.9/py/lib/python3.9/site-packages (from selenium==4.1.0) (1.26.12)\n",
      "Collecting trio-websocket~=0.9\n",
      "  Downloading trio_websocket-0.10.2-py3-none-any.whl (17 kB)\n",
      "Collecting sortedcontainers\n",
      "  Downloading sortedcontainers-2.4.0-py2.py3-none-any.whl (29 kB)\n",
      "Requirement already satisfied: attrs>=19.2.0 in /shared-libs/python3.9/py-core/lib/python3.9/site-packages (from trio~=0.17->selenium==4.1.0) (22.1.0)\n",
      "Requirement already satisfied: sniffio in /shared-libs/python3.9/py-core/lib/python3.9/site-packages (from trio~=0.17->selenium==4.1.0) (1.3.0)\n",
      "Collecting exceptiongroup>=1.0.0rc9\n",
      "  Downloading exceptiongroup-1.1.1-py3-none-any.whl (14 kB)\n",
      "Collecting outcome\n",
      "  Downloading outcome-1.2.0-py2.py3-none-any.whl (9.7 kB)\n",
      "Collecting async-generator>=1.9\n",
      "  Downloading async_generator-1.10-py3-none-any.whl (18 kB)\n",
      "Requirement already satisfied: idna in /shared-libs/python3.9/py-core/lib/python3.9/site-packages (from trio~=0.17->selenium==4.1.0) (3.4)\n",
      "Collecting wsproto>=0.14\n",
      "  Downloading wsproto-1.2.0-py3-none-any.whl (24 kB)\n",
      "Requirement already satisfied: certifi in /shared-libs/python3.9/py/lib/python3.9/site-packages (from urllib3[secure]~=1.26->selenium==4.1.0) (2022.9.24)\n",
      "Requirement already satisfied: cryptography>=1.3.4 in /shared-libs/python3.9/py/lib/python3.9/site-packages (from urllib3[secure]~=1.26->selenium==4.1.0) (36.0.2)\n",
      "Requirement already satisfied: pyOpenSSL>=0.14 in /shared-libs/python3.9/py/lib/python3.9/site-packages (from urllib3[secure]~=1.26->selenium==4.1.0) (22.0.0)\n",
      "Collecting urllib3-secure-extra\n",
      "  Downloading urllib3_secure_extra-0.1.0-py2.py3-none-any.whl (1.4 kB)\n",
      "Requirement already satisfied: cffi>=1.12 in /shared-libs/python3.9/py-core/lib/python3.9/site-packages (from cryptography>=1.3.4->urllib3[secure]~=1.26->selenium==4.1.0) (1.15.1)\n",
      "Collecting h11<1,>=0.9.0\n",
      "  Downloading h11-0.14.0-py3-none-any.whl (58 kB)\n",
      "\u001b[2K     \u001b[90m━━━━━━━━━━━━━━━━━━━━━━━━━━━━━━━━━━━━━━━━\u001b[0m \u001b[32m58.3/58.3 KB\u001b[0m \u001b[31m12.3 MB/s\u001b[0m eta \u001b[36m0:00:00\u001b[0m\n",
      "\u001b[?25hRequirement already satisfied: pycparser in /shared-libs/python3.9/py-core/lib/python3.9/site-packages (from cffi>=1.12->cryptography>=1.3.4->urllib3[secure]~=1.26->selenium==4.1.0) (2.21)\n",
      "Installing collected packages: urllib3-secure-extra, sortedcontainers, outcome, h11, exceptiongroup, async-generator, wsproto, trio, trio-websocket, selenium\n",
      "Successfully installed async-generator-1.10 exceptiongroup-1.1.1 h11-0.14.0 outcome-1.2.0 selenium-4.1.0 sortedcontainers-2.4.0 trio-0.22.0 trio-websocket-0.10.2 urllib3-secure-extra-0.1.0 wsproto-1.2.0\n",
      "\u001b[33mWARNING: You are using pip version 22.0.4; however, version 23.0.1 is available.\n",
      "You should consider upgrading via the '/root/venv/bin/python -m pip install --upgrade pip' command.\u001b[0m\u001b[33m\n",
      "\u001b[0m"
     ]
    }
   ],
   "source": [
    "!pip install selenium==4.1.0"
   ]
  },
  {
   "cell_type": "code",
   "execution_count": 3,
   "metadata": {
    "cell_id": "753a6426b23c46d19e5308f8b5b99977",
    "deepnote_cell_type": "code",
    "deepnote_to_be_reexecuted": false,
    "execution_millis": 4595,
    "execution_start": 1680007592590,
    "is_output_hidden": true,
    "source_hash": "c03e6b0c"
   },
   "outputs": [
    {
     "name": "stdout",
     "output_type": "stream",
     "text": [
      "Collecting webdriver-manager==3.5.2\n",
      "  Downloading webdriver_manager-3.5.2-py2.py3-none-any.whl (17 kB)\n",
      "Collecting crayons\n",
      "  Downloading crayons-0.4.0-py2.py3-none-any.whl (4.6 kB)\n",
      "Collecting configparser\n",
      "  Downloading configparser-5.3.0-py3-none-any.whl (19 kB)\n",
      "Requirement already satisfied: requests in /shared-libs/python3.9/py/lib/python3.9/site-packages (from webdriver-manager==3.5.2) (2.28.1)\n",
      "Collecting colorama\n",
      "  Downloading colorama-0.4.6-py2.py3-none-any.whl (25 kB)\n",
      "Requirement already satisfied: certifi>=2017.4.17 in /shared-libs/python3.9/py/lib/python3.9/site-packages (from requests->webdriver-manager==3.5.2) (2022.9.24)\n",
      "Requirement already satisfied: idna<4,>=2.5 in /shared-libs/python3.9/py-core/lib/python3.9/site-packages (from requests->webdriver-manager==3.5.2) (3.4)\n",
      "Requirement already satisfied: urllib3<1.27,>=1.21.1 in /shared-libs/python3.9/py/lib/python3.9/site-packages (from requests->webdriver-manager==3.5.2) (1.26.12)\n",
      "Requirement already satisfied: charset-normalizer<3,>=2 in /shared-libs/python3.9/py-core/lib/python3.9/site-packages (from requests->webdriver-manager==3.5.2) (2.1.1)\n",
      "Installing collected packages: configparser, colorama, crayons, webdriver-manager\n",
      "Successfully installed colorama-0.4.6 configparser-5.3.0 crayons-0.4.0 webdriver-manager-3.5.2\n",
      "\u001b[33mWARNING: You are using pip version 22.0.4; however, version 23.0.1 is available.\n",
      "You should consider upgrading via the '/root/venv/bin/python -m pip install --upgrade pip' command.\u001b[0m\u001b[33m\n",
      "\u001b[0m"
     ]
    }
   ],
   "source": [
    "!pip install webdriver-manager==3.5.2"
   ]
  },
  {
   "cell_type": "markdown",
   "metadata": {
    "cell_id": "45485831803243d1809881a8501d7d6d",
    "deepnote_cell_type": "markdown"
   },
   "source": [
    "#### Selenium & Driver(for browser) 준비\n",
    "\n",
    "- Selenium : http://selenium-python.readthedocs.io/ 에서 공식 문서 확인 가능\n",
    "- ~~ChromeDriver 다운로드 후 작업 폴더에 위치시키기~~ (Webdriver-manager 라이브러리를 활용해 자동으로 다운로드 가능)"
   ]
  },
  {
   "cell_type": "code",
   "execution_count": 14,
   "metadata": {
    "cell_id": "1de513ee3ace4bbcb8f2276c728a2da3",
    "deepnote_cell_type": "code",
    "deepnote_to_be_reexecuted": false,
    "execution_millis": 2,
    "execution_start": 1680142580543,
    "source_hash": "b5c70539"
   },
   "outputs": [],
   "source": [
    "#from webdriver_manager.chrome import ChromeDriverManager # 자동으로 크롬드라이버(가상브라우저) 파일을 다운로드해주는 라이브러리\n",
    "#from selenium.webdriver.chrome.service import Service # 다운로드된 크롬드라이버 파일을 연결하기 위해 활용\n",
    "\n",
    "#from selenium import webdriver\n",
    "#from selenium.webdriver.common.by import By\n",
    "#from selenium.webdriver.common.keys import Keys\n",
    "\n",
    "from bs4 import BeautifulSoup \n",
    "import time\n",
    "import pandas as pd\n",
    "import requests\n",
    "from urllib.request import urlopen\n",
    "\n",
    "import warnings\n",
    "warnings.filterwarnings(\"ignore\") # 불필요한 Warning 메시지를 꺼줍니다."
   ]
  },
  {
   "cell_type": "markdown",
   "metadata": {
    "cell_id": "84dfe8a32e0e431b83435aa4e88e19a2",
    "deepnote_cell_type": "markdown"
   },
   "source": [
    "<br>\n",
    "<br>\n",
    "\n",
    "## 1. Selenium 둘러보기"
   ]
  },
  {
   "cell_type": "code",
   "execution_count": 5,
   "metadata": {
    "cell_id": "d6449eec938046febf3a1749303dbc5b",
    "deepnote_cell_type": "code",
    "deepnote_to_be_reexecuted": false,
    "execution_millis": 352,
    "execution_start": 1680007597422,
    "source_hash": "a16ed2f7"
   },
   "outputs": [
    {
     "data": {
      "application/vnd.deepnote.dataframe.v3+json": {
       "column_count": 5,
       "columns": [
        {
         "dtype": "object",
         "name": "Title",
         "stats": {
          "categories": [
           {
            "count": 1,
            "name": "인천테크노파크, 중소기업 빅데이터 지원사업 '우수' 등급"
           },
           {
            "count": 1,
            "name": "식약처, 식·의약 데이터 분석 플랫폼 구축"
           },
           {
            "count": 3,
            "name": "3 others"
           }
          ],
          "nan_count": 0,
          "unique_count": 5
         }
        },
        {
         "dtype": "object",
         "name": "Date",
         "stats": {
          "categories": [
           {
            "count": 1,
            "name": "2022.02.02. 오전 10:09"
           },
           {
            "count": 1,
            "name": "2022.02.01. 오전 8:28"
           },
           {
            "count": 3,
            "name": "3 others"
           }
          ],
          "nan_count": 0,
          "unique_count": 5
         }
        },
        {
         "dtype": "object",
         "name": "Article",
         "stats": {
          "categories": [
           {
            "count": 1,
            "name": "[인천=뉴시스] 이루비 기자 =  인천테크노파크 로고. (이미지=인천테크노파크 제공)[인천=뉴시스] 이루비 기자 = 인천테크노파크는 '중소기업 빅데이터 분석·활용 지원사업' 전국 평가에서 '우수' 등급을 받았다고 2일 밝혔다. 이 지원사업은 중소기업과 빅데이터 분석 솔루션을 보유한 데이터 전문기업을 연결해 기업의 빅데이터 분석·활용을 돕는 것으로, 인천TP는 지난 2020년부터 한국지능정보사회진흥원(NIA)의 공모에 2년 연속 선정돼 사업을 추진해 왔다.인천TP는 지난해 사업비 5억원을 들여 전문성 부족과 비용 문제 등으로 빅데이터 활용에 어려움을 겪고 있는 인천지역 28개 중소기업에 데이터 전문기업의 맞춤형 컨설팅을 지원, 기업 성장을 이끌었다.스마트 가로등 개발업체 ㈜에코란트는 인천TP의 빅데이터 분석·활용 지원을 바탕으로 매출이 두배 넘게 늘었으며, 유아용품 전문 제조업 ㈜제이엠아이엔티엘은 신제품 출시를 앞당겼다. 이사 플랫폼 서비스 제공기업 ㈜모두플랫폼과 공기압 기기 국내 최대 제조업체 ㈜TPC메카트로닉스, 유압 실린더 개발 기업 우영유압㈜은 생산관리 효율성 향상으로 시장경쟁력을 높였다. 운동 어플 서비스 개발업체 ㈜버닛과 AI(인공지능) 기반 폐기물 분류 시스템 개발 기업 ㈜에이트테크는 작업효율 높이면서 투자유치에 성공, 사세 확장을 꾀하고 있다.인천TP 관계자는 \"이 지원사업을 통해 기업들이 새로운 비즈니스 기회를 창출하면서 경쟁력을 키워나가고 있다\"며 \"인천지역 기업들의 데이터 활용 활성화와 비즈니스 모델 전환 등을 지속해서 지원할 계획\"이라고 말했다．"
           },
           {
            "count": 1,
            "name": "[KBS 청주]식품의약품안전처는 오는 4월부터 식·의약 데이터를 모은 분석 플랫폼을 구축하기 위한 사업을 추진한다고 밝혔습니다."
           },
           {
            "count": 3,
            "name": "3 others"
           }
          ],
          "nan_count": 0,
          "unique_count": 5
         }
        },
        {
         "dtype": "object",
         "name": "URL",
         "stats": {
          "categories": [
           {
            "count": 1,
            "name": "https://news.naver.com/main/read.naver?mode=LSD&mid=sec&sid1=102&oid=003&aid=0010976518"
           },
           {
            "count": 1,
            "name": "https://news.naver.com/main/read.naver?mode=LSD&mid=sec&sid1=102&oid=056&aid=0011205309"
           },
           {
            "count": 3,
            "name": "3 others"
           }
          ],
          "nan_count": 0,
          "unique_count": 5
         }
        },
        {
         "dtype": "object",
         "name": "PressCompany",
         "stats": {
          "categories": [
           {
            "count": 1,
            "name": "뉴시스"
           },
           {
            "count": 1,
            "name": "KBS"
           },
           {
            "count": 3,
            "name": "3 others"
           }
          ],
          "nan_count": 0,
          "unique_count": 5
         }
        },
        {
         "dtype": "int64",
         "name": "_deepnote_index_column"
        }
       ],
       "row_count": 5,
       "rows": [
        {
         "Article": "[인천=뉴시스] 이루비 기자 =  인천테크노파크 로고. (이미지=인천테크노파크 제공)[인천=뉴시스] 이루비 기자 = 인천테크노파크는 '중소기업 빅데이터 분석·활용 지원사업' 전국 평가에서 '우수' 등급을 받았다고 2일 밝혔다. 이 지원사업은 중소기업과 빅데이터 분석 솔루션을 보유한 데이터 전문기업을 연결해 기업의 빅데이터 분석·활용을 돕는 것으로, 인천TP는 지난 2020년부터 한국지능정보사회진흥원(NIA)의 공모에 2년 연속 선정돼 사업을 추진해 왔다.인천TP는 지난해 사업비 5억원을 들여 전문성 부족과 비용 문제 등으로 빅데이터 활용에 어려움을 겪고 있는 인천지역 28개 중소기업에 데이터 전문기업의 맞춤형 컨설팅을 지원, 기업 성장을 이끌었다.스마트 가로등 개발업체 ㈜에코란트는 인천TP의 빅데이터 분석·활용 지원을 바탕으로 매출이 두배 넘게 늘었으며, 유아용품 전문 제조업 ㈜제이엠아이엔티엘은 신제품 출시를 앞당겼다. 이사 플랫폼 서비스 제공기업 ㈜모두플랫폼과 공기압 기기 국내 최대 제조업체 ㈜TPC메카트로닉스, 유압 실린더 개발 기업 우영유압㈜은 생산관리 효율성 향상으로 시장경쟁력을 높였다. 운동 어플 서비스 개발업체 ㈜버닛과 AI(인공지능) 기반 폐기물 분류 시스템 개발 기업 ㈜에이트테크는 작업효율 높이면서 투자유치에 성공, 사세 확장을 꾀하고 있다.인천TP 관계자는 \"이 지원사업을 통해 기업들이 새로운 비즈니스 기회를 창출하면서 경쟁력을 키워나가고 있다\"며 \"인천지역 기업들의 데이터 활용 활성화와 비즈니스 모델 전환 등을 지속해서 지원할 계획\"이라고 말했다．",
         "Date": "2022.02.02. 오전 10:09",
         "PressCompany": "뉴시스",
         "Title": "인천테크노파크, 중소기업 빅데이터 지원사업 '우수' 등급",
         "URL": "https://news.naver.com/main/read.naver?mode=LSD&mid=sec&sid1=102&oid=003&aid=0010976518",
         "_deepnote_index_column": "0"
        },
        {
         "Article": "[KBS 청주]식품의약품안전처는 오는 4월부터 식·의약 데이터를 모은 분석 플랫폼을 구축하기 위한 사업을 추진한다고 밝혔습니다.",
         "Date": "2022.02.01. 오전 8:28",
         "PressCompany": "KBS",
         "Title": "식약처, 식·의약 데이터 분석 플랫폼 구축",
         "URL": "https://news.naver.com/main/read.naver?mode=LSD&mid=sec&sid1=102&oid=056&aid=0011205309",
         "_deepnote_index_column": "1"
        },
        {
         "Article": "유전자[게티이미지뱅크 제공]    (서울=연합뉴스) 이정현 기자 = 실종자 확인 시 2촌 이상 가족 간에도 유전자 분석을 할 수 있는 신기술 도입이 장기 과제로 추진된다.    1일 연합뉴스 취재를 종합하면 경찰은 기존 1촌끼리만 가능했던 가족 간 유전자 분석을 2촌 이상에서도 할 수 있는 기술을 확보하는 방안을 검토 중이다.    부모가 고령 등 사유로 사망하는 경우 형제·자매 등 유전자 대조가 필요한 상황이 늘었기 때문이다.    형제·자매 간 유전자 대조를 하려면 일대일이 아닌 다대다 데이터베이스 분석이 필요한데, 현 기술로는 어려운 상황이라 신기술 개발 후 국립과학수사연구원 프로그램에 탑재해야 한다.    경찰은 기획재정부를 설득해 최대한 관련 예산을 확보해보겠다는 입장이다.    경찰청은 장기 실종자 발견을 위해 2004년부터 유전자 분석 제도를 운용하고 있다.    실제로 경찰청 실종가족지원센터에서 오랜 세월 찾지 못했던 가족을 유전자 분석으로 찾아주는 사례도 점점 늘고 있다.    지난 7월에는 62년 전인 1959년 인천 중구 배다리시장 인근에서 2살 터울 오빠와 함께 아버지가 있는 곳으로 걸어가다가 홀로 길을 잃어버려 보육원에 보내진 뒤 한 수녀에게 입양된 60대 여성이 유전자 분석으로 오빠와 상봉하기도 했다.    당시 김창룡 경찰청장은 \"유전자 분석 제도는 실종자 가족의 희망\"이라고 강조하기도 했다.    경찰은 또 실종자 신속 발견 정책을 고도화하기 위해 독자적 실종경보 문자 시스템을 구축할 방침이다. 현재는 행정안전부의 시스템을 사용하고 있다.    경찰은 관련 업체·통신사 등과 협의하고 프로그램을 마련하면 연말에는 독자적인 시스템을 구축할 수 있을 것으로 예상했다.    차세대 실종자정보시스템 구축도 추진, 올해 설계를 위한 예산을 확보했다.    경찰은 2011년부터 써온 기존 실종자정보시스템이 노후화된 것을 고려해 GIS(지리정보체계)와 영상정보 기반 추적 시스템, 데이터 분석을 통한 위험도 판단과 예측 모델 등 기술을 접목한 차…",
         "Date": "2022.02.01. 오전 7:16",
         "PressCompany": "연합뉴스",
         "Title": "2촌까지 가능한 유전자 분석기술 도입될까…\"실종자 가족 희망\"",
         "URL": "https://news.naver.com/main/read.naver?mode=LSD&mid=sec&sid1=102&oid=001&aid=0012951729",
         "_deepnote_index_column": "2"
        },
        {
         "Article": "이달부터 심전도 장기검사 보험 신설휴이노 최대 4000명 규모 임상 계획홀터 검사 대체해 AI 진단율 고도화다만, 보험법 개정 등 수가 지원 필요[서울경제] \"전국 40개 병원에서 2000~3000명가량 환자를 대상으로 6개월 내에 임상 시험을 끝내는 게 목표입니다. 심전도 검사를 더 편리하고 효과적으로 할 수 있는 경험을 확대에 빠르게 현장에 적용될 수 있을 것으로 기대합니다.\"이달부터 의료 현장에 원격 모니터링이 본격적으로 첫선을 보이는 가운데, 웨어러블 심전도측정기 '메모패치'를 개발한 휴이노의 길영준(사진) 대표가 자신감 있게 출사표를 던졌다. 1일 서울 청담동 휴이노 본사에서 만난 길 대표는 \"기존에 불편한 장비와 달리 일상 생활 중에 오랫동안 큰 거부감 없이 착용하면서 부정맥이나 숨어있는 뇌졸중을 조기에 진단할 수 있도록 돕는다\"며 \"'규제 샌드박스 1호' 등 원격 모니터링 분야를 7년여간 개척해 온 만큼 상용화에 앞장설 것\"이라고 말했다.보건복지부가 홀터 심전도 검사를 대체해 가볍게 몸에 착용하는 방식에 처음으로 보험을 적용하면서 올해 2월부터 새 시장이 열렸다. 심전도 검사를 위한 홀터기록 항목에 ‘48시간 초과 7일 이내’와 ‘7일초과 14일 이내’가 신설되면서 웨어러블 심전도측정기를 장기간 착용하는 검사법에도 보험수가를 적용받을 수 있게 됐다. 기존의 홀터검사는 24시간 동안 검사 장비를 착용하다가 다시 병원에 들어와 제거하고 검사 결과를 확인해야 했다. 번거로울 뿐만 아니라 짧은 기간 부정맥 등이 발견되지 않는 단점이 명확했다. 이에 따라 여러 헬스케어 개발사들은 인공지능(AI)을 기반으로 1~2주간 원격 모니터링한 심전도 데이터를 분석해 진단의 정확도를 높이려는 경쟁에 돌입했다.휴이노의 웨어러블 심전도측정기 '메모패치' /사진 제공=휴이노휴이노는 원격 모니터링 '퍼스트 펭귄'으로 꼽힌다. 대학원에서 생체신호를 컴퓨터로 분석하는 연구를 하다가 2014년 길 대표가 창업한 뒤 줄곧 앞선 기술력을 인정받아 왔다. 애플 워치보다 3년 앞선 20…",
         "Date": "2022.02.01. 오전 10:01",
         "PressCompany": "서울경제",
         "Title": "길영준 휴이노 대표 \"2월 원격 모니터링 시장 첫발…최대 규모 임상 데이터 확보 목표\"",
         "URL": "https://news.naver.com/main/read.naver?mode=LSD&mid=sec&sid1=101&oid=011&aid=0004014183",
         "_deepnote_index_column": "3"
        },
        {
         "Article": "KT, 소상공인 빅데이터 성공 사례 공유상권분석 플랫폼 ‘잘나가게’ 활용법 오픈KT가 소상공인을 위해 빅데이터 상권분석 플랫폼 ‘잘나가게’활용법을 알려주는 ‘잘나가게 이야기’메뉴를 새로 선보인다고 28일 밝혔다. [KT 제공]KT가 소상공인을 위해 빅데이터 상권분석 플랫폼 ‘잘나가게’ 활용법을 알려주는 ‘잘나가게 이야기’ 메뉴를 새로 선보인다고 28일 밝혔다. ‘잘나가게 이야기’는 KT 빅데이터 상권분석을 쉽고 효과적으로 사용할 수 있도록 돕는 ‘잘나가게 사용법’과, KT 잘나가게 서비스를 사용해 매출을 올린 사장님들의 실제 사례를 소개하는 ‘잘나가는 사장님’으로 구성됐다.‘잘나가게 사용법’에서는 ▷잘나가게로 내 상권 이해하기 ▷잘나가게의 배달분석으로 효과적인 배달 전략 짜기 ▷데이터로 장사하기 등 활용법을 알려주는 콘텐츠를 유튜브 영상으로 제공한다. 이를 통해 내 상권 영역, 주변 유동인구와 매출 수준, 고객 및 배달 수요 통계 등 빅데이터 정보를 쉽게 이해하고 장사에 적용하는 방법을 알 수 있다.‘잘나가는 사장님’에서는 빅데이터 분석으로 실제 매출을 올린 사장님들의 인터뷰를 제공한다. 첫 인터뷰는 인천 청라의 한 초밥집으로, KT 잘나가게의 창업지 상권분석을 통해 인근 수요를 파악하고 맞춤형 메뉴를 개발했다. 월 3000만원의 매출을 7000만원까지 끌어올린 사례다.KT는 소상공인과의 상생을 위해 ESG 경영차원에서 ‘잘나가게 이야기’를 포함한 KT 잘나가게 서비스를 무료로 제공하고 있다. KT 잘나가게 홈페이지에서 회원 가입 후 사용할 수 있다. 최준기 KT AI·빅데이터사업본부 본부장은 “잘나가게 이야기는 KT 잘나가게를 이용해 본 고객분들이 제공해 주신 소중한 서비스 개선 아이디어를 실제 서비스에 반영한 사례”라며 “KT의 빅데이터 상권분석 플랫폼인 잘나가게를 활용하는 모든 소상공인분들의 가게 매출이 늘어나기를 기대한다”고 말했다.김민지 기자",
         "Date": "2022.01.28. 오전 11:18",
         "PressCompany": "헤럴드경제",
         "Title": "“빅데이터 잘 쓰면 매출 2배도 가능해요”",
         "URL": "https://news.naver.com/main/read.naver?mode=LSD&mid=sec&sid1=105&oid=016&aid=0001944291",
         "_deepnote_index_column": "4"
        }
       ]
      },
      "text/html": [
       "<div>\n",
       "<style scoped>\n",
       "    .dataframe tbody tr th:only-of-type {\n",
       "        vertical-align: middle;\n",
       "    }\n",
       "\n",
       "    .dataframe tbody tr th {\n",
       "        vertical-align: top;\n",
       "    }\n",
       "\n",
       "    .dataframe thead th {\n",
       "        text-align: right;\n",
       "    }\n",
       "</style>\n",
       "<table border=\"1\" class=\"dataframe\">\n",
       "  <thead>\n",
       "    <tr style=\"text-align: right;\">\n",
       "      <th></th>\n",
       "      <th>Title</th>\n",
       "      <th>Date</th>\n",
       "      <th>Article</th>\n",
       "      <th>URL</th>\n",
       "      <th>PressCompany</th>\n",
       "    </tr>\n",
       "  </thead>\n",
       "  <tbody>\n",
       "    <tr>\n",
       "      <th>0</th>\n",
       "      <td>인천테크노파크, 중소기업 빅데이터 지원사업 '우수' 등급</td>\n",
       "      <td>2022.02.02. 오전 10:09</td>\n",
       "      <td>[인천=뉴시스] 이루비 기자 =  인천테크노파크 로고. (이미지=인천테크노파크 제공...</td>\n",
       "      <td>https://news.naver.com/main/read.naver?mode=LS...</td>\n",
       "      <td>뉴시스</td>\n",
       "    </tr>\n",
       "    <tr>\n",
       "      <th>1</th>\n",
       "      <td>식약처, 식·의약 데이터 분석 플랫폼 구축</td>\n",
       "      <td>2022.02.01. 오전 8:28</td>\n",
       "      <td>[KBS 청주]식품의약품안전처는 오는 4월부터 식·의약 데이터를 모은 분석 플랫폼을...</td>\n",
       "      <td>https://news.naver.com/main/read.naver?mode=LS...</td>\n",
       "      <td>KBS</td>\n",
       "    </tr>\n",
       "    <tr>\n",
       "      <th>2</th>\n",
       "      <td>2촌까지 가능한 유전자 분석기술 도입될까…\"실종자 가족 희망\"</td>\n",
       "      <td>2022.02.01. 오전 7:16</td>\n",
       "      <td>유전자[게티이미지뱅크 제공]    (서울=연합뉴스) 이정현 기자 = 실종자 확인 시...</td>\n",
       "      <td>https://news.naver.com/main/read.naver?mode=LS...</td>\n",
       "      <td>연합뉴스</td>\n",
       "    </tr>\n",
       "    <tr>\n",
       "      <th>3</th>\n",
       "      <td>길영준 휴이노 대표 \"2월 원격 모니터링 시장 첫발…최대 규모 임상 데이터 확보 목표\"</td>\n",
       "      <td>2022.02.01. 오전 10:01</td>\n",
       "      <td>이달부터 심전도 장기검사 보험 신설휴이노 최대 4000명 규모 임상 계획홀터 검사 ...</td>\n",
       "      <td>https://news.naver.com/main/read.naver?mode=LS...</td>\n",
       "      <td>서울경제</td>\n",
       "    </tr>\n",
       "    <tr>\n",
       "      <th>4</th>\n",
       "      <td>“빅데이터 잘 쓰면 매출 2배도 가능해요”</td>\n",
       "      <td>2022.01.28. 오전 11:18</td>\n",
       "      <td>KT, 소상공인 빅데이터 성공 사례 공유상권분석 플랫폼 ‘잘나가게’ 활용법 오픈KT...</td>\n",
       "      <td>https://news.naver.com/main/read.naver?mode=LS...</td>\n",
       "      <td>헤럴드경제</td>\n",
       "    </tr>\n",
       "  </tbody>\n",
       "</table>\n",
       "</div>"
      ],
      "text/plain": [
       "                                              Title                  Date  \\\n",
       "0                   인천테크노파크, 중소기업 빅데이터 지원사업 '우수' 등급  2022.02.02. 오전 10:09   \n",
       "1                           식약처, 식·의약 데이터 분석 플랫폼 구축   2022.02.01. 오전 8:28   \n",
       "2                2촌까지 가능한 유전자 분석기술 도입될까…\"실종자 가족 희망\"   2022.02.01. 오전 7:16   \n",
       "3  길영준 휴이노 대표 \"2월 원격 모니터링 시장 첫발…최대 규모 임상 데이터 확보 목표\"  2022.02.01. 오전 10:01   \n",
       "4                           “빅데이터 잘 쓰면 매출 2배도 가능해요”  2022.01.28. 오전 11:18   \n",
       "\n",
       "                                             Article  \\\n",
       "0  [인천=뉴시스] 이루비 기자 =  인천테크노파크 로고. (이미지=인천테크노파크 제공...   \n",
       "1  [KBS 청주]식품의약품안전처는 오는 4월부터 식·의약 데이터를 모은 분석 플랫폼을...   \n",
       "2  유전자[게티이미지뱅크 제공]    (서울=연합뉴스) 이정현 기자 = 실종자 확인 시...   \n",
       "3  이달부터 심전도 장기검사 보험 신설휴이노 최대 4000명 규모 임상 계획홀터 검사 ...   \n",
       "4  KT, 소상공인 빅데이터 성공 사례 공유상권분석 플랫폼 ‘잘나가게’ 활용법 오픈KT...   \n",
       "\n",
       "                                                 URL PressCompany  \n",
       "0  https://news.naver.com/main/read.naver?mode=LS...          뉴시스  \n",
       "1  https://news.naver.com/main/read.naver?mode=LS...          KBS  \n",
       "2  https://news.naver.com/main/read.naver?mode=LS...         연합뉴스  \n",
       "3  https://news.naver.com/main/read.naver?mode=LS...         서울경제  \n",
       "4  https://news.naver.com/main/read.naver?mode=LS...        헤럴드경제  "
      ]
     },
     "execution_count": 5,
     "metadata": {},
     "output_type": "execute_result"
    }
   ],
   "source": [
    "df = pd.read_excel('result_220202_1834.xlsx')\n",
    "df.head()"
   ]
  },
  {
   "cell_type": "code",
   "execution_count": 7,
   "metadata": {
    "cell_id": "397b757899754523ad729b951d890104",
    "deepnote_cell_type": "code",
    "deepnote_to_be_reexecuted": false,
    "execution_millis": 4547,
    "execution_start": 1680007807793,
    "is_output_hidden": true,
    "scrolled": true,
    "source_hash": "f0bbad1c"
   },
   "outputs": [
    {
     "name": "stdout",
     "output_type": "stream",
     "text": [
      "Requirement already satisfied: selenium==3.11.0 in /root/venv/lib/python3.9/site-packages (3.11.0)\n",
      "\u001b[33mWARNING: You are using pip version 22.0.4; however, version 23.0.1 is available.\n",
      "You should consider upgrading via the '/root/venv/bin/python -m pip install --upgrade pip' command.\u001b[0m\u001b[33m\n",
      "\u001b[0m"
     ]
    },
    {
     "ename": "WebDriverException",
     "evalue": "Message: '\\work\\(driver) chromedriver.exe' executable needs to be in PATH. Please see https://chromedriver.chromium.org/home\n",
     "output_type": "error",
     "traceback": [
      "\u001b[0;31m---------------------------------------------------------------------------\u001b[0m",
      "\u001b[0;31mFileNotFoundError\u001b[0m                         Traceback (most recent call last)",
      "File \u001b[0;32m~/venv/lib/python3.9/site-packages/selenium/webdriver/common/service.py:71\u001b[0m, in \u001b[0;36mstart\u001b[0;34m(self)\u001b[0m\n\u001b[1;32m     70\u001b[0m cmd \u001b[38;5;241m=\u001b[39m [\u001b[38;5;28mself\u001b[39m\u001b[38;5;241m.\u001b[39mpath]\n\u001b[0;32m---> 71\u001b[0m cmd\u001b[38;5;241m.\u001b[39mextend(\u001b[38;5;28mself\u001b[39m\u001b[38;5;241m.\u001b[39mcommand_line_args())\n\u001b[1;32m     72\u001b[0m \u001b[38;5;28mself\u001b[39m\u001b[38;5;241m.\u001b[39mprocess \u001b[38;5;241m=\u001b[39m subprocess\u001b[38;5;241m.\u001b[39mPopen(cmd, env\u001b[38;5;241m=\u001b[39m\u001b[38;5;28mself\u001b[39m\u001b[38;5;241m.\u001b[39menv,\n\u001b[1;32m     73\u001b[0m                                 close_fds\u001b[38;5;241m=\u001b[39mplatform\u001b[38;5;241m.\u001b[39msystem() \u001b[38;5;241m!=\u001b[39m \u001b[38;5;124m'\u001b[39m\u001b[38;5;124mWindows\u001b[39m\u001b[38;5;124m'\u001b[39m,\n\u001b[1;32m     74\u001b[0m                                 stdout\u001b[38;5;241m=\u001b[39m\u001b[38;5;28mself\u001b[39m\u001b[38;5;241m.\u001b[39mlog_file,\n\u001b[1;32m     75\u001b[0m                                 stderr\u001b[38;5;241m=\u001b[39m\u001b[38;5;28mself\u001b[39m\u001b[38;5;241m.\u001b[39mlog_file,\n\u001b[1;32m     76\u001b[0m                                 stdin\u001b[38;5;241m=\u001b[39mPIPE)\n",
      "File \u001b[0;32m/usr/local/lib/python3.9/subprocess.py:951\u001b[0m, in \u001b[0;36mPopen.__init__\u001b[0;34m(self, args, bufsize, executable, stdin, stdout, stderr, preexec_fn, close_fds, shell, cwd, env, universal_newlines, startupinfo, creationflags, restore_signals, start_new_session, pass_fds, user, group, extra_groups, encoding, errors, text, umask)\u001b[0m\n\u001b[1;32m    948\u001b[0m             \u001b[38;5;28mself\u001b[39m\u001b[38;5;241m.\u001b[39mstderr \u001b[38;5;241m=\u001b[39m io\u001b[38;5;241m.\u001b[39mTextIOWrapper(\u001b[38;5;28mself\u001b[39m\u001b[38;5;241m.\u001b[39mstderr,\n\u001b[1;32m    949\u001b[0m                     encoding\u001b[38;5;241m=\u001b[39mencoding, errors\u001b[38;5;241m=\u001b[39merrors)\n\u001b[0;32m--> 951\u001b[0m     \u001b[38;5;28;43mself\u001b[39;49m\u001b[38;5;241;43m.\u001b[39;49m\u001b[43m_execute_child\u001b[49m\u001b[43m(\u001b[49m\u001b[43margs\u001b[49m\u001b[43m,\u001b[49m\u001b[43m \u001b[49m\u001b[43mexecutable\u001b[49m\u001b[43m,\u001b[49m\u001b[43m \u001b[49m\u001b[43mpreexec_fn\u001b[49m\u001b[43m,\u001b[49m\u001b[43m \u001b[49m\u001b[43mclose_fds\u001b[49m\u001b[43m,\u001b[49m\n\u001b[1;32m    952\u001b[0m \u001b[43m                        \u001b[49m\u001b[43mpass_fds\u001b[49m\u001b[43m,\u001b[49m\u001b[43m \u001b[49m\u001b[43mcwd\u001b[49m\u001b[43m,\u001b[49m\u001b[43m \u001b[49m\u001b[43menv\u001b[49m\u001b[43m,\u001b[49m\n\u001b[1;32m    953\u001b[0m \u001b[43m                        \u001b[49m\u001b[43mstartupinfo\u001b[49m\u001b[43m,\u001b[49m\u001b[43m \u001b[49m\u001b[43mcreationflags\u001b[49m\u001b[43m,\u001b[49m\u001b[43m \u001b[49m\u001b[43mshell\u001b[49m\u001b[43m,\u001b[49m\n\u001b[1;32m    954\u001b[0m \u001b[43m                        \u001b[49m\u001b[43mp2cread\u001b[49m\u001b[43m,\u001b[49m\u001b[43m \u001b[49m\u001b[43mp2cwrite\u001b[49m\u001b[43m,\u001b[49m\n\u001b[1;32m    955\u001b[0m \u001b[43m                        \u001b[49m\u001b[43mc2pread\u001b[49m\u001b[43m,\u001b[49m\u001b[43m \u001b[49m\u001b[43mc2pwrite\u001b[49m\u001b[43m,\u001b[49m\n\u001b[1;32m    956\u001b[0m \u001b[43m                        \u001b[49m\u001b[43merrread\u001b[49m\u001b[43m,\u001b[49m\u001b[43m \u001b[49m\u001b[43merrwrite\u001b[49m\u001b[43m,\u001b[49m\n\u001b[1;32m    957\u001b[0m \u001b[43m                        \u001b[49m\u001b[43mrestore_signals\u001b[49m\u001b[43m,\u001b[49m\n\u001b[1;32m    958\u001b[0m \u001b[43m                        \u001b[49m\u001b[43mgid\u001b[49m\u001b[43m,\u001b[49m\u001b[43m \u001b[49m\u001b[43mgids\u001b[49m\u001b[43m,\u001b[49m\u001b[43m \u001b[49m\u001b[43muid\u001b[49m\u001b[43m,\u001b[49m\u001b[43m \u001b[49m\u001b[43mumask\u001b[49m\u001b[43m,\u001b[49m\n\u001b[1;32m    959\u001b[0m \u001b[43m                        \u001b[49m\u001b[43mstart_new_session\u001b[49m\u001b[43m)\u001b[49m\n\u001b[1;32m    960\u001b[0m \u001b[38;5;28;01mexcept\u001b[39;00m:\n\u001b[1;32m    961\u001b[0m     \u001b[38;5;66;03m# Cleanup if the child failed starting.\u001b[39;00m\n",
      "File \u001b[0;32m/usr/local/lib/python3.9/subprocess.py:1821\u001b[0m, in \u001b[0;36mPopen._execute_child\u001b[0;34m(self, args, executable, preexec_fn, close_fds, pass_fds, cwd, env, startupinfo, creationflags, shell, p2cread, p2cwrite, c2pread, c2pwrite, errread, errwrite, restore_signals, gid, gids, uid, umask, start_new_session)\u001b[0m\n\u001b[1;32m   1820\u001b[0m         err_msg \u001b[38;5;241m=\u001b[39m os\u001b[38;5;241m.\u001b[39mstrerror(errno_num)\n\u001b[0;32m-> 1821\u001b[0m     \u001b[38;5;28;01mraise\u001b[39;00m child_exception_type(errno_num, err_msg, err_filename)\n\u001b[1;32m   1822\u001b[0m \u001b[38;5;28;01mraise\u001b[39;00m child_exception_type(err_msg)\n",
      "\u001b[0;31mFileNotFoundError\u001b[0m: [Errno 2] No such file or directory: '\\\\work\\\\(driver) chromedriver.exe'",
      "\nDuring handling of the above exception, another exception occurred:\n",
      "\u001b[0;31mWebDriverException\u001b[0m                        Traceback (most recent call last)",
      "Cell \u001b[0;32mIn [7], line 12\u001b[0m\n\u001b[1;32m      7\u001b[0m get_ipython()\u001b[38;5;241m.\u001b[39msystem(\u001b[38;5;124m'\u001b[39m\u001b[38;5;124mpip install selenium==3.11.0\u001b[39m\u001b[38;5;124m'\u001b[39m)\n\u001b[1;32m     10\u001b[0m \u001b[38;5;66;03m# 2. 아래 코드를 Jupyter notebook에 입력해 가상브라우저를 띄웁니다. ('(driver) chromedriver.exe' 파일이 ipynb 파일 옆에 있어야 합니다.)\u001b[39;00m\n\u001b[0;32m---> 12\u001b[0m driver \u001b[38;5;241m=\u001b[39m \u001b[43mwebdriver\u001b[49m\u001b[38;5;241;43m.\u001b[39;49m\u001b[43mChrome\u001b[49m\u001b[43m(\u001b[49m\u001b[43mexecutable_path\u001b[49m\u001b[38;5;241;43m=\u001b[39;49m\u001b[38;5;124;43m'\u001b[39;49m\u001b[38;5;124;43m\\\u001b[39;49m\u001b[38;5;124;43mwork\u001b[39;49m\u001b[38;5;124;43m\\\u001b[39;49m\u001b[38;5;124;43m(driver) chromedriver.exe\u001b[39;49m\u001b[38;5;124;43m'\u001b[39;49m\u001b[43m)\u001b[49m \n\u001b[1;32m     15\u001b[0m \u001b[38;5;66;03m# 3-1. 만약 위 코드 실행 시 [ WebDriverException (cannot find Chrome binary) ] 관련 에러가 발생하면,\u001b[39;00m\n\u001b[1;32m     16\u001b[0m \u001b[38;5;66;03m#    실제 크롬 브라우저가 설치된 경로를 찾으셔서 아래와 같이 Chrome의 option값을 세팅해주세요. (options.binary_location 변수)\u001b[39;00m\n\u001b[1;32m     18\u001b[0m \u001b[38;5;28;01mfrom\u001b[39;00m \u001b[38;5;21;01mselenium\u001b[39;00m\u001b[38;5;21;01m.\u001b[39;00m\u001b[38;5;21;01mwebdriver\u001b[39;00m\u001b[38;5;21;01m.\u001b[39;00m\u001b[38;5;21;01mchrome\u001b[39;00m\u001b[38;5;21;01m.\u001b[39;00m\u001b[38;5;21;01moptions\u001b[39;00m \u001b[38;5;28;01mimport\u001b[39;00m Options\n",
      "File \u001b[0;32m~/venv/lib/python3.9/site-packages/selenium/webdriver/chrome/webdriver.py:70\u001b[0m, in \u001b[0;36m__init__\u001b[0;34m(self, executable_path, port, options, service_args, desired_capabilities, service_log_path, chrome_options, service, keep_alive)\u001b[0m\n\u001b[1;32m     63\u001b[0m \u001b[38;5;28mself\u001b[39m\u001b[38;5;241m.\u001b[39mservice \u001b[38;5;241m=\u001b[39m Service(\n\u001b[1;32m     64\u001b[0m     executable_path,\n\u001b[1;32m     65\u001b[0m     port\u001b[38;5;241m=\u001b[39mport,\n\u001b[1;32m     66\u001b[0m     service_args\u001b[38;5;241m=\u001b[39mservice_args,\n\u001b[1;32m     67\u001b[0m     log_path\u001b[38;5;241m=\u001b[39mservice_log_path)\n\u001b[1;32m     68\u001b[0m \u001b[38;5;28mself\u001b[39m\u001b[38;5;241m.\u001b[39mservice\u001b[38;5;241m.\u001b[39mstart()\n\u001b[0;32m---> 70\u001b[0m \u001b[38;5;28;01mtry\u001b[39;00m:\n\u001b[1;32m     71\u001b[0m     RemoteWebDriver\u001b[38;5;241m.\u001b[39m\u001b[38;5;21m__init__\u001b[39m(\n\u001b[1;32m     72\u001b[0m         \u001b[38;5;28mself\u001b[39m,\n\u001b[1;32m     73\u001b[0m         command_executor\u001b[38;5;241m=\u001b[39mChromeRemoteConnection(\n\u001b[1;32m     74\u001b[0m             remote_server_addr\u001b[38;5;241m=\u001b[39m\u001b[38;5;28mself\u001b[39m\u001b[38;5;241m.\u001b[39mservice\u001b[38;5;241m.\u001b[39mservice_url),\n\u001b[1;32m     75\u001b[0m         desired_capabilities\u001b[38;5;241m=\u001b[39mdesired_capabilities)\n\u001b[1;32m     76\u001b[0m \u001b[38;5;28;01mexcept\u001b[39;00m \u001b[38;5;167;01mException\u001b[39;00m:\n",
      "File \u001b[0;32m~/venv/lib/python3.9/site-packages/selenium/webdriver/chromium/webdriver.py:90\u001b[0m, in \u001b[0;36m__init__\u001b[0;34m(self, browser_name, vendor_prefix, port, options, service_args, desired_capabilities, service_log_path, service, keep_alive)\u001b[0m\n",
      "File \u001b[0;32m~/venv/lib/python3.9/site-packages/selenium/webdriver/common/service.py:81\u001b[0m, in \u001b[0;36mstart\u001b[0;34m(self)\u001b[0m\n\u001b[1;32m     79\u001b[0m \u001b[38;5;28;01mexcept\u001b[39;00m \u001b[38;5;167;01mOSError\u001b[39;00m \u001b[38;5;28;01mas\u001b[39;00m err:\n\u001b[1;32m     80\u001b[0m     \u001b[38;5;28;01mif\u001b[39;00m err\u001b[38;5;241m.\u001b[39merrno \u001b[38;5;241m==\u001b[39m errno\u001b[38;5;241m.\u001b[39mENOENT:\n\u001b[0;32m---> 81\u001b[0m         \u001b[38;5;28;01mraise\u001b[39;00m WebDriverException(\n\u001b[1;32m     82\u001b[0m             \u001b[38;5;124m\"\u001b[39m\u001b[38;5;124m'\u001b[39m\u001b[38;5;132;01m%s\u001b[39;00m\u001b[38;5;124m'\u001b[39m\u001b[38;5;124m executable needs to be in PATH. \u001b[39m\u001b[38;5;132;01m%s\u001b[39;00m\u001b[38;5;124m\"\u001b[39m \u001b[38;5;241m%\u001b[39m (\n\u001b[1;32m     83\u001b[0m                 os\u001b[38;5;241m.\u001b[39mpath\u001b[38;5;241m.\u001b[39mbasename(\u001b[38;5;28mself\u001b[39m\u001b[38;5;241m.\u001b[39mpath), \u001b[38;5;28mself\u001b[39m\u001b[38;5;241m.\u001b[39mstart_error_message)\n\u001b[1;32m     84\u001b[0m         )\n\u001b[1;32m     85\u001b[0m     \u001b[38;5;28;01melif\u001b[39;00m err\u001b[38;5;241m.\u001b[39merrno \u001b[38;5;241m==\u001b[39m errno\u001b[38;5;241m.\u001b[39mEACCES:\n\u001b[1;32m     86\u001b[0m         \u001b[38;5;28;01mraise\u001b[39;00m WebDriverException(\n\u001b[1;32m     87\u001b[0m             \u001b[38;5;124m\"\u001b[39m\u001b[38;5;124m'\u001b[39m\u001b[38;5;132;01m%s\u001b[39;00m\u001b[38;5;124m'\u001b[39m\u001b[38;5;124m executable may have wrong permissions. \u001b[39m\u001b[38;5;132;01m%s\u001b[39;00m\u001b[38;5;124m\"\u001b[39m \u001b[38;5;241m%\u001b[39m (\n\u001b[1;32m     88\u001b[0m                 os\u001b[38;5;241m.\u001b[39mpath\u001b[38;5;241m.\u001b[39mbasename(\u001b[38;5;28mself\u001b[39m\u001b[38;5;241m.\u001b[39mpath), \u001b[38;5;28mself\u001b[39m\u001b[38;5;241m.\u001b[39mstart_error_message)\n\u001b[1;32m     89\u001b[0m         )\n",
      "\u001b[0;31mWebDriverException\u001b[0m: Message: '\\work\\(driver) chromedriver.exe' executable needs to be in PATH. Please see https://chromedriver.chromium.org/home\n"
     ]
    }
   ],
   "source": [
    "# 활용 중인 개발환경에 따라 Selenium 4.1.0 버전 혹은 Webdriver-manager 3.5.2 버전이 문제를 일으킬 수 있습니다.\n",
    "# 그러한 경우에는 selenium 버전을 낮추고 아래와 같은 절차를 통해 예전 방식으로 가상브라우저를 띄울 수 있습니다.\n",
    "\n",
    "\n",
    "# 1. cmd를 관리자권한으로 실행 후, 아래 명령어를 입력하여 Selenium 버전을 다운그레이드합니다.\n",
    "\n",
    "!pip install selenium==3.11.0\n",
    "\n",
    "\n",
    "# 2. 아래 코드를 Jupyter notebook에 입력해 가상브라우저를 띄웁니다. ('(driver) chromedriver.exe' 파일이 ipynb 파일 옆에 있어야 합니다.)\n",
    "\n",
    "driver = webdriver.Chrome(executable_path='\\work\\(driver) chromedriver.exe') \n",
    "\n",
    "\n",
    "# 3-1. 만약 위 코드 실행 시 [ WebDriverException (cannot find Chrome binary) ] 관련 에러가 발생하면,\n",
    "#    실제 크롬 브라우저가 설치된 경로를 찾으셔서 아래와 같이 Chrome의 option값을 세팅해주세요. (options.binary_location 변수)\n",
    "\n",
    "from selenium.webdriver.chrome.options import Options\n",
    "options = Options()\n",
    "options.binary_location = \"C:\\\\Program Files\\\\Google\\\\Chrome\\\\Application\\\\chrome.exe\" # 실제 크롬 브라우저 설치 경로를 찾아 변경 후 적용\n",
    "driver = webdriver.Chrome(executable_path='\\work\\(driver) chromedriver.exe', chrome_options=options) # webdriver 실행 시마다 동일하게 작성\n",
    "\n",
    "\n",
    "# 3-2. 혹은 위와 같은 코드 상의 변경 대신 https://chromedriver.chromium.org/downloads 에서 \n",
    "#      현재 설치된 크롬 브라우저의 버전과 동일한 버전의 ChromeDriver를 다운로드 받아,\n",
    "#      코드를 실행하고 있는 ipynb 파일과 동일한 폴더 내의 '(driver) chromedriver.exe' 파일을 대체해주셔도 문제가 해결될 수 있습니다.\n",
    "\n",
    "\n",
    "# * MacOS의 경우 참고 : Mac OS 환경에서 Selenium Driver Path 설정하기 : https://j.mp/3reMri7"
   ]
  },
  {
   "cell_type": "code",
   "execution_count": 8,
   "metadata": {
    "cell_id": "310a9ae2c8b148fba6e992eb6a7c318f",
    "deepnote_cell_type": "code",
    "deepnote_to_be_reexecuted": false,
    "execution_millis": 813,
    "execution_start": 1680007855877,
    "is_output_hidden": true,
    "scrolled": true,
    "source_hash": "f4af96c7"
   },
   "outputs": [
    {
     "name": "stderr",
     "output_type": "stream",
     "text": [
      "\n",
      "\n",
      "====== WebDriver manager ======\n",
      "Could not get version for google-chrome with the any command: google-chrome --version || google-chrome-stable --version\n",
      "Current google-chrome version is UNKNOWN\n",
      "Get LATEST chromedriver version for UNKNOWN google-chrome\n",
      "There is no [linux64] chromedriver for browser  in cache\n",
      "Trying to download new driver from https://chromedriver.storage.googleapis.com/111.0.5563.64/chromedriver_linux64.zip\n",
      "Driver has been saved in cache [/root/.wdm/drivers/chromedriver/linux64/111.0.5563.64]\n"
     ]
    },
    {
     "ename": "WebDriverException",
     "evalue": "Message: Service /root/.wdm/drivers/chromedriver/linux64/111.0.5563.64/chromedriver unexpectedly exited. Status code was: 127\n",
     "output_type": "error",
     "traceback": [
      "\u001b[0;31m---------------------------------------------------------------------------\u001b[0m",
      "\u001b[0;31mWebDriverException\u001b[0m                        Traceback (most recent call last)",
      "Cell \u001b[0;32mIn [8], line 5\u001b[0m\n\u001b[1;32m      2\u001b[0m service \u001b[38;5;241m=\u001b[39m Service(executable_path\u001b[38;5;241m=\u001b[39mChromeDriverManager()\u001b[38;5;241m.\u001b[39minstall()) \n\u001b[1;32m      4\u001b[0m \u001b[38;5;66;03m# 세팅된 크롬드라이버를 연결해 가상브라우저 실행\u001b[39;00m\n\u001b[0;32m----> 5\u001b[0m driver \u001b[38;5;241m=\u001b[39m \u001b[43mwebdriver\u001b[49m\u001b[38;5;241;43m.\u001b[39;49m\u001b[43mChrome\u001b[49m\u001b[43m(\u001b[49m\u001b[43mservice\u001b[49m\u001b[38;5;241;43m=\u001b[39;49m\u001b[43mservice\u001b[49m\u001b[43m)\u001b[49m\n",
      "File \u001b[0;32m~/venv/lib/python3.9/site-packages/selenium/webdriver/chrome/webdriver.py:70\u001b[0m, in \u001b[0;36m__init__\u001b[0;34m(self, executable_path, port, options, service_args, desired_capabilities, service_log_path, chrome_options, service, keep_alive)\u001b[0m\n\u001b[1;32m     63\u001b[0m \u001b[38;5;28mself\u001b[39m\u001b[38;5;241m.\u001b[39mservice \u001b[38;5;241m=\u001b[39m Service(\n\u001b[1;32m     64\u001b[0m     executable_path,\n\u001b[1;32m     65\u001b[0m     port\u001b[38;5;241m=\u001b[39mport,\n\u001b[1;32m     66\u001b[0m     service_args\u001b[38;5;241m=\u001b[39mservice_args,\n\u001b[1;32m     67\u001b[0m     log_path\u001b[38;5;241m=\u001b[39mservice_log_path)\n\u001b[1;32m     68\u001b[0m \u001b[38;5;28mself\u001b[39m\u001b[38;5;241m.\u001b[39mservice\u001b[38;5;241m.\u001b[39mstart()\n\u001b[0;32m---> 70\u001b[0m \u001b[38;5;28;01mtry\u001b[39;00m:\n\u001b[1;32m     71\u001b[0m     RemoteWebDriver\u001b[38;5;241m.\u001b[39m\u001b[38;5;21m__init__\u001b[39m(\n\u001b[1;32m     72\u001b[0m         \u001b[38;5;28mself\u001b[39m,\n\u001b[1;32m     73\u001b[0m         command_executor\u001b[38;5;241m=\u001b[39mChromeRemoteConnection(\n\u001b[1;32m     74\u001b[0m             remote_server_addr\u001b[38;5;241m=\u001b[39m\u001b[38;5;28mself\u001b[39m\u001b[38;5;241m.\u001b[39mservice\u001b[38;5;241m.\u001b[39mservice_url),\n\u001b[1;32m     75\u001b[0m         desired_capabilities\u001b[38;5;241m=\u001b[39mdesired_capabilities)\n\u001b[1;32m     76\u001b[0m \u001b[38;5;28;01mexcept\u001b[39;00m \u001b[38;5;167;01mException\u001b[39;00m:\n",
      "File \u001b[0;32m~/venv/lib/python3.9/site-packages/selenium/webdriver/chromium/webdriver.py:90\u001b[0m, in \u001b[0;36m__init__\u001b[0;34m(self, browser_name, vendor_prefix, port, options, service_args, desired_capabilities, service_log_path, service, keep_alive)\u001b[0m\n",
      "File \u001b[0;32m~/venv/lib/python3.9/site-packages/selenium/webdriver/common/service.py:98\u001b[0m, in \u001b[0;36mstart\u001b[0;34m(self)\u001b[0m\n\u001b[1;32m     96\u001b[0m count \u001b[38;5;241m=\u001b[39m \u001b[38;5;241m0\u001b[39m\n\u001b[1;32m     97\u001b[0m \u001b[38;5;28;01mwhile\u001b[39;00m \u001b[38;5;28;01mTrue\u001b[39;00m:\n\u001b[0;32m---> 98\u001b[0m     \u001b[38;5;28mself\u001b[39m\u001b[38;5;241m.\u001b[39massert_process_still_running()\n\u001b[1;32m     99\u001b[0m     \u001b[38;5;28;01mif\u001b[39;00m \u001b[38;5;28mself\u001b[39m\u001b[38;5;241m.\u001b[39mis_connectable():\n\u001b[1;32m    100\u001b[0m         \u001b[38;5;28;01mbreak\u001b[39;00m\n",
      "File \u001b[0;32m~/venv/lib/python3.9/site-packages/selenium/webdriver/common/service.py:110\u001b[0m, in \u001b[0;36massert_process_still_running\u001b[0;34m(self)\u001b[0m\n\u001b[1;32m    107\u001b[0m return_code \u001b[38;5;241m=\u001b[39m \u001b[38;5;28mself\u001b[39m\u001b[38;5;241m.\u001b[39mprocess\u001b[38;5;241m.\u001b[39mpoll()\n\u001b[1;32m    108\u001b[0m \u001b[38;5;28;01mif\u001b[39;00m return_code \u001b[38;5;129;01mis\u001b[39;00m \u001b[38;5;129;01mnot\u001b[39;00m \u001b[38;5;28;01mNone\u001b[39;00m:\n\u001b[1;32m    109\u001b[0m     \u001b[38;5;28;01mraise\u001b[39;00m WebDriverException(\n\u001b[0;32m--> 110\u001b[0m         \u001b[38;5;124m'\u001b[39m\u001b[38;5;124mService \u001b[39m\u001b[38;5;132;01m%s\u001b[39;00m\u001b[38;5;124m unexpectedly exited. Status code was: \u001b[39m\u001b[38;5;132;01m%s\u001b[39;00m\u001b[38;5;124m'\u001b[39m\n\u001b[1;32m    111\u001b[0m         \u001b[38;5;241m%\u001b[39m (\u001b[38;5;28mself\u001b[39m\u001b[38;5;241m.\u001b[39mpath, return_code)\n\u001b[1;32m    112\u001b[0m     )\n",
      "\u001b[0;31mWebDriverException\u001b[0m: Message: Service /root/.wdm/drivers/chromedriver/linux64/111.0.5563.64/chromedriver unexpectedly exited. Status code was: 127\n"
     ]
    }
   ],
   "source": [
    "# 자동으로 크롬드라이버(가상브라우저) 파일을 다운로드 후 세팅\n",
    "service = Service(executable_path=ChromeDriverManager().install()) \n",
    "\n",
    "# 세팅된 크롬드라이버를 연결해 가상브라우저 실행\n",
    "driver = webdriver.Chrome(service=service)"
   ]
  },
  {
   "cell_type": "code",
   "execution_count": null,
   "metadata": {
    "cell_id": "2235c090202446728817b5f1637c78c5",
    "deepnote_cell_type": "code",
    "deepnote_to_be_reexecuted": true,
    "source_hash": "dc707d16"
   },
   "outputs": [],
   "source": [
    "# driver.maximize_window() # 가상 브라우저를 최대화하고 싶을 때 활용하세요"
   ]
  },
  {
   "cell_type": "code",
   "execution_count": null,
   "metadata": {
    "cell_id": "9fcc6f9eb3094fcba9b5d4f05b0ab943",
    "deepnote_cell_type": "code",
    "deepnote_to_be_reexecuted": true,
    "execution_millis": 14442409,
    "execution_start": 1679993162004,
    "source_hash": "8e15b5ca"
   },
   "outputs": [],
   "source": [
    "translate_url = 'https://translate.google.co.kr/?sl=auto&tl=en&op=translate&hl=ko' \n",
    "# hl=ko : Korean & tl=en : English\n",
    "\n",
    "driver.get(translate_url) # Get the page\n",
    "print(driver.current_url)"
   ]
  },
  {
   "cell_type": "markdown",
   "metadata": {
    "cell_id": "4e1791ae8f6c413c818170f0b3d6e77c",
    "deepnote_cell_type": "markdown"
   },
   "source": [
    "<br>\n",
    "\n",
    "## 문장 번역 & 크롤링"
   ]
  },
  {
   "cell_type": "markdown",
   "metadata": {
    "cell_id": "8708886f24a04a7aab49661ebd6f6aff",
    "deepnote_cell_type": "markdown"
   },
   "source": [
    "<p style='color:red;'>위 스크린샷 화면과 같이 개발자도구에서 원본 텍스트를 입력받는 태그를 찾은 후,</p>\n",
    "<p><b style='color:red;'>개발자도구 영역에서 우클릭 -> \"Copy\" -> \"Copy full XPath\" 를 클릭해 XPath를 복사해옵니다. </b>(<a href='https://testmanager.tistory.com/121'>XPath란?</a>)</p> "
   ]
  },
  {
   "cell_type": "code",
   "execution_count": null,
   "metadata": {
    "cell_id": "c745df4b5b0d4ceb972f4da01ddb486b",
    "deepnote_cell_type": "code",
    "deepnote_to_be_reexecuted": true,
    "source_hash": "5033499d"
   },
   "outputs": [],
   "source": [
    "origin_xpath = '/html/body/c-wiz/div/div[2]/c-wiz/div[2]/c-wiz/div[1]/div[2]/div[3]/c-wiz[1]/span/span/div/textarea'\n",
    "\n",
    "driver.find_element_by_xpath(origin_xpath).send_keys('파이썬은 쉽습니다') # 기존 방식, XPath & Send_keys\n",
    "# driver.find_element(By.XPATH, origin_xpath).send_keys('...') # 새로운 방식 (원할 경우 활용하세요)\n",
    "# .send_keys('') / .clear() / .click() / .text"
   ]
  },
  {
   "cell_type": "markdown",
   "metadata": {
    "cell_id": "00ce488dbb1b43aca497606129189950",
    "deepnote_cell_type": "markdown"
   },
   "source": [
    "<p style='color:red;'>번역 결과 역시도 마찬가지로 위 스크린샷 화면과 같이 개발자도구에서 태그를 찾은 후,</p>\n",
    "<p><b style='color:red;'>개발자도구 영역에서 우클릭 -> \"Copy\" -> \"Copy full XPath\" 를 클릭해 XPath를 복사해옵니다. </b></p> "
   ]
  },
  {
   "cell_type": "code",
   "execution_count": null,
   "metadata": {
    "cell_id": "c64963bf0fb24766a463fac6054232c5",
    "deepnote_cell_type": "code",
    "deepnote_to_be_reexecuted": true,
    "source_hash": "ea3fe872"
   },
   "outputs": [],
   "source": [
    "translation_xpath = '/html/body/c-wiz/div/div[2]/c-wiz/div[2]/c-wiz/div[1]/div[2]/div[3]/c-wiz[2]/div[8]/div/div[1]/span[1]/span/span'\n",
    "\n",
    "translated_contents = driver.find_element_by_xpath(translation_xpath) # XPath\n",
    "\n",
    "print(translated_contents)\n",
    "print(translated_contents.text) # text (not get_text())"
   ]
  },
  {
   "cell_type": "markdown",
   "metadata": {
    "cell_id": "6f270213bd3a426594516e345d98381e",
    "deepnote_cell_type": "markdown"
   },
   "source": [
    "<br>\n",
    "\n",
    "## 기사글 번역 & 크롤링"
   ]
  },
  {
   "cell_type": "code",
   "execution_count": null,
   "metadata": {
    "cell_id": "d126d2c8a9ff4967a1e51edd97b95157",
    "deepnote_cell_type": "code",
    "deepnote_to_be_reexecuted": true,
    "source_hash": "5b213348"
   },
   "outputs": [],
   "source": [
    "article = df['Article'][0]\n",
    "\n",
    "origin_xpath = '/html/body/c-wiz/div/div[2]/c-wiz/div[2]/c-wiz/div[1]/div[2]/div[3]/c-wiz[1]/span/span/div/textarea'\n",
    "driver.find_element_by_xpath(origin_xpath).clear() # 깔끔하게 비우기(clear)\n",
    "driver.find_element_by_xpath(origin_xpath).send_keys(article)\n",
    "time.sleep(3)\n",
    "\n",
    "translation_xpath = '/html/body/c-wiz/div/div[2]/c-wiz/div[2]/c-wiz/div[1]/div[2]/div[3]/c-wiz[2]/div[8]/div/div[1]/span[1]/span/span'\n",
    "translated_contents = driver.find_element_by_xpath(translation_xpath).text\n",
    "\n",
    "print('기사글 [ {} ] 의 번역이 끝났습니다.'.format(df['Title'][0]))\n",
    "print(translated_contents)"
   ]
  },
  {
   "cell_type": "code",
   "execution_count": null,
   "metadata": {
    "cell_id": "6b1cdd0cb264458c91f96403929fbb10",
    "deepnote_cell_type": "code",
    "deepnote_to_be_reexecuted": true,
    "source_hash": "75f21aa4"
   },
   "outputs": [],
   "source": [
    "driver.close()\n",
    "driver.quit()"
   ]
  },
  {
   "cell_type": "markdown",
   "metadata": {
    "cell_id": "8df8a159318047c897b7180b5af6000b",
    "deepnote_cell_type": "markdown"
   },
   "source": [
    "<br>\n",
    "<br>\n",
    "\n",
    "## 2. 기사 원문 전체 번역 (시간이 오래 걸립니다 & 중간에 IP가 막힐 수 있습니다)"
   ]
  },
  {
   "cell_type": "code",
   "execution_count": null,
   "metadata": {
    "cell_id": "fae96e95fcd2454f800267dcbac2f5a4",
    "deepnote_cell_type": "code",
    "deepnote_to_be_reexecuted": true,
    "source_hash": "28b43cf4"
   },
   "outputs": [],
   "source": [
    "# eng_contents = []\n",
    "\n",
    "# service = Service(executable_path=ChromeDriverManager().install()) \n",
    "# driver = webdriver.Chrome(service=service)\n",
    "\n",
    "# translate_url = 'https://translate.google.co.kr/?sl=auto&tl=en&op=translate&hl=ko' \n",
    "# driver.get(translate_url) \n",
    "# print(driver.current_url)\n",
    "# time.sleep(3)\n",
    "\n",
    "# for row_index, row in df.iterrows():\n",
    "#     origin_xpath = '/html/body/c-wiz/div/div[2]/c-wiz/div[2]/c-wiz/div[1]/div[2]/div[3]/c-wiz[1]/span/span/div/textarea'\n",
    "#     driver.find_element_by_xpath(origin_xpath).clear()\n",
    "#     driver.find_element_by_xpath(origin_xpath).send_keys(df['Article'][row_index])\n",
    "#     time.sleep(3)\n",
    "\n",
    "#     translation_xpath = '/html/body/c-wiz/div/div[2]/c-wiz/div[2]/c-wiz/div[1]/div[2]/div[3]/c-wiz[2]/div[8]/div/div[1]/span[1]/span/span'\n",
    "#     translated_contents = driver.find_element_by_xpath(translation_xpath).text\n",
    "#     eng_contents.append(translated_contents)\n",
    "#     print('기사글 [ {} ] 의 번역이 끝났습니다.'.format(df['Title'][row_index]))\n",
    "\n",
    "# print('전체 contents 번역이 끝났습니다!')\n",
    "\n",
    "# driver.close()\n",
    "# driver.quit()\n",
    "\n",
    "\n",
    "# df['Translated_article'] = eng_contents\n",
    "# df.to_excel('translation_result.xlsx', index=False, encoding='utf-8')\n",
    "\n",
    "# print('crawling_result.xlsx 파일로 전체 저장이 완료되었습니다!')"
   ]
  },
  {
   "cell_type": "markdown",
   "metadata": {
    "cell_id": "fc5f4f226ace4861a1fb9ee7d370f5fc",
    "deepnote_cell_type": "markdown"
   },
   "source": [
    "<br>\n",
    "<br>\n",
    "\n",
    "## 3. 한글 word_dict에서 상위 항목만 단어로 가져와 번역"
   ]
  },
  {
   "cell_type": "code",
   "execution_count": null,
   "metadata": {
    "cell_id": "cd946a0e1a7b4511bb78cb73be1372b2",
    "deepnote_cell_type": "code",
    "deepnote_to_be_reexecuted": true,
    "source_hash": "70e1c472"
   },
   "outputs": [],
   "source": [
    "from collections import Counter\n",
    "from konlpy.tag import Okt\n",
    "\n",
    "articles = df['Article'].tolist()\n",
    "articles = ''.join(articles)\n",
    "\n",
    "tokenizer = Okt()\n",
    "raw_pos_tagged = tokenizer.pos(articles, norm=True, stem=True)\n",
    "\n",
    "del_list = ['하다', '있다', '되다', '이다', '돼다', '않다', '그렇다', '아니다', '이렇다', '그렇다', '어떻다'] \n",
    "word_cleaned = []\n",
    "for word in raw_pos_tagged:\n",
    "    if not word[1] in [\"Josa\", \"Eomi\", \"Punctuation\", \"Foreign\"]: # Foreign == ”, “ 와 같이 제외되어야할 항목들\n",
    "        if (len(word[0]) != 1) & (word[0] not in del_list): # 한 글자로 이뤄진 단어들을 제외 & 원치 않는 단어들을 제외\n",
    "            word_cleaned.append(word[0])\n",
    "\n",
    "word_counted = Counter(word_cleaned)\n",
    "word_dic = dict(word_counted)\n",
    "        \n",
    "sorted_word_dic = sorted(word_dic.items(), key=lambda x:x[1], reverse=True)\n",
    "# sorted_word_dic"
   ]
  },
  {
   "cell_type": "code",
   "execution_count": null,
   "metadata": {
    "cell_id": "f25f33cf3a3f4656a21e8b7b6f6edb78",
    "deepnote_cell_type": "code",
    "deepnote_to_be_reexecuted": true,
    "source_hash": "87f1acb3"
   },
   "outputs": [],
   "source": [
    "# 빈도 순으로 상위 100개에 해당하는 단어까지만 추려내어 번역을 진행합니다. (늘릴 수 있습니다.)\n",
    "\n",
    "translation_target = sorted_word_dic[:100] \n",
    "translation_target[-1] # 상위 100번째에 해당하는 단어의 빈도수를 확인합니다. (가장 마지막 item을 호출하려면?)"
   ]
  },
  {
   "cell_type": "code",
   "execution_count": null,
   "metadata": {
    "cell_id": "7fad5586d64243d8acae86e3abdba949",
    "deepnote_cell_type": "code",
    "deepnote_to_be_reexecuted": true,
    "source_hash": "b3fc2bd1"
   },
   "outputs": [],
   "source": [
    "translation_target = {}\n",
    "for key in word_dic:\n",
    "    if word_dic[key] >= 24: # 위에서 확인한 빈도수를 기반으로 번역 대상 단어를 선정합니다.\n",
    "        translation_target[key] = word_dic[key]"
   ]
  },
  {
   "cell_type": "code",
   "execution_count": null,
   "metadata": {
    "cell_id": "9b46ac1169584f5f8df77d52753a8d96",
    "deepnote_cell_type": "code",
    "deepnote_to_be_reexecuted": true,
    "source_hash": "a06ec0a2"
   },
   "outputs": [],
   "source": [
    "print(translation_target)"
   ]
  },
  {
   "cell_type": "code",
   "execution_count": null,
   "metadata": {
    "cell_id": "25d527764df84464a0793c33fe934843",
    "deepnote_cell_type": "code",
    "deepnote_to_be_reexecuted": true,
    "source_hash": "9c579d71"
   },
   "outputs": [],
   "source": [
    "translation_result = {}\n",
    "\n",
    "service = Service(executable_path=ChromeDriverManager().install()) \n",
    "driver = webdriver.Chrome(service=service)\n",
    "\n",
    "translate_url = 'https://translate.google.co.kr/?sl=auto&tl=en&op=translate&hl=ko'\n",
    "driver.get(translate_url) \n",
    "print(driver.current_url)\n",
    "time.sleep(3)"
   ]
  },
  {
   "cell_type": "code",
   "execution_count": null,
   "metadata": {
    "cell_id": "12060cabe1184078a6d2dfc794f845dc",
    "deepnote_cell_type": "code",
    "deepnote_to_be_reexecuted": true,
    "source_hash": "29f7de26"
   },
   "outputs": [],
   "source": [
    "# 만약 바로 아래 Cell 실행 시 [ NoSuchElementException (no such element: Unable to locate element) ] 에러가 발생하면,\n",
    "# 네트워크 속도 등의 이슈로 인해 3초라는 사전에 설정된 시간 동안 기다렸으나 번역 결과가 아직 생성되지 않은 것입니다. (HTML Tag가 로딩되지 않음)\n",
    "\n",
    "# 혹은 [ 서로 다른 한글 형태소 값에 대한 번역 결과로 연속적으로 동일한 영문 단어가 print되는 현상 ]도 동일한 원인에 기인합니다.\n",
    "# 따라서 네트워크 속도에 따라 아래 time.sleep(3)에서 3을 5~7으로 증가시켜주면 보다 안정적으로 결과를 받아올 수 있습니다."
   ]
  },
  {
   "cell_type": "code",
   "execution_count": null,
   "metadata": {
    "cell_id": "7e3efddf22d34d59b3088d2c2fab61e3",
    "deepnote_cell_type": "code",
    "deepnote_to_be_reexecuted": true,
    "source_hash": "8ab27248"
   },
   "outputs": [],
   "source": [
    "for key in translation_target: # 상위 100번째 빈도수에 해당하는 단어까지 담겨있는 dict\n",
    "    \n",
    "    origin_xpath = '/html/body/c-wiz/div/div[2]/c-wiz/div[2]/c-wiz/div[1]/div[2]/div[3]/c-wiz[1]/span/span/div/textarea'\n",
    "    driver.find_element_by_xpath(origin_xpath).clear()\n",
    "    driver.find_element_by_xpath(origin_xpath).send_keys(key)\n",
    "    time.sleep(3) # 네트워크의 속도에 따라 잠깐씩 쉬어주면서 진행합니다.\n",
    "\n",
    "    translated_xpath = '/html/body/c-wiz/div/div[2]/c-wiz/div[2]/c-wiz/div[1]/div[2]/div[3]/c-wiz[2]/div[8]/div/div[1]/span[1]/span/span'\n",
    "    translated_contents = driver.find_element_by_xpath(translated_xpath).text\n",
    "    \n",
    "    translation_result[translated_contents] = translation_target[key] # 번역이 완료된 단어 dict의 value로 기존 dict의 value를 꽂아줍니다.\n",
    "    print('단어 {}의 번역 완료 : {}'.format(key, translated_contents))\n",
    "\n",
    "print('전체 번역이 끝났습니다!')\n",
    "\n",
    "driver.close()\n",
    "driver.quit()"
   ]
  },
  {
   "cell_type": "code",
   "execution_count": null,
   "metadata": {
    "cell_id": "ded969245db84f9ebd64fc74e6b6204a",
    "deepnote_cell_type": "code",
    "deepnote_to_be_reexecuted": true,
    "source_hash": "9fe297ef"
   },
   "outputs": [],
   "source": [
    "translation_result['It'] # 구글 번역 서비스의 성능 향상에 따라 정상적으로 번역이 진행될 시 해당 key는 들어있지 않을 수 있습니다."
   ]
  },
  {
   "cell_type": "code",
   "execution_count": null,
   "metadata": {
    "cell_id": "08eca26b59db4fc4a907262672f3da8a",
    "deepnote_cell_type": "code",
    "deepnote_to_be_reexecuted": true,
    "source_hash": "a311e69"
   },
   "outputs": [],
   "source": [
    "# 구글 번역 서비스의 성능 향상에 따라 정상적으로 번역이 진행될 시 아래 코드는 필요하지 않을 수 있습니다. (\"AI\" & \"가다\" 번역 결과 확인)\n",
    "\n",
    "translation_result['AI'] = translation_result['It'] # AI\n",
    "translation_result['go'] = translation_result['good morning my love'] # 가다\n",
    "\n",
    "del translation_result['It']\n",
    "del translation_result['good morning my love']"
   ]
  },
  {
   "cell_type": "code",
   "execution_count": null,
   "metadata": {
    "cell_id": "d3542798640346159bb0521b70bd3a9a",
    "deepnote_cell_type": "code",
    "deepnote_to_be_reexecuted": true,
    "source_hash": "2e5487d"
   },
   "outputs": [],
   "source": [
    "from PIL import Image \n",
    "from wordcloud import WordCloud, ImageColorGenerator # Image 로부터 Color 를 생성(Generate)해내는 객체입니다.\n",
    "import numpy as np\n",
    "import matplotlib.pyplot as plt\n",
    "%matplotlib inline\n",
    "\n",
    "python_coloring = np.array(Image.open(\"python_mask.jpg\"))\n",
    "image_colors = ImageColorGenerator(python_coloring)\n",
    "\n",
    "word_cloud = WordCloud(font_path=\"C:/Windows/Fonts/malgun.ttf\", # font_path=\"C:/Windows/Fonts/NanumSquareB.ttf\"\n",
    "                       width=2000, height=1000,  \n",
    "                       mask=python_coloring, \n",
    "                       background_color='white').generate_from_frequencies(translation_result)\n",
    "\n",
    "plt.figure(figsize=(15,15))\n",
    "plt.imshow(word_cloud.recolor(color_func=image_colors), interpolation='bilinear') # 다시(re) 색칠하기\n",
    "# plt.imshow(word_cloud.recolor(colormap='Blues'), interpolation='bilinear') # Matplotlib colormap 활용 (http://j.mp/32UXOQ6)\n",
    "plt.axis(\"off\")\n",
    "plt.tight_layout(pad=0)\n",
    "plt.show()"
   ]
  },
  {
   "cell_type": "markdown",
   "metadata": {
    "cell_id": "de4810609dbe4274a867eb38e3d0c1bf",
    "deepnote_cell_type": "markdown"
   },
   "source": [
    "<br>\n",
    "\n",
    "## (Appendix 1) 네이버 파파고를 활용한 번역 (find_element_by_id 활용)"
   ]
  },
  {
   "cell_type": "code",
   "execution_count": null,
   "metadata": {
    "cell_id": "fe9927c8567847538a8fdbb05d6bd641",
    "deepnote_cell_type": "code",
    "deepnote_to_be_reexecuted": true,
    "source_hash": "fc364008"
   },
   "outputs": [],
   "source": [
    "service = Service(executable_path=ChromeDriverManager().install()) \n",
    "driver = webdriver.Chrome(service=service)"
   ]
  },
  {
   "cell_type": "code",
   "execution_count": null,
   "metadata": {
    "cell_id": "d0a0139b79954ddaabe72a99770c6131",
    "deepnote_cell_type": "code",
    "deepnote_to_be_reexecuted": true,
    "source_hash": "217bb8e4"
   },
   "outputs": [],
   "source": [
    "translate_url = 'https://papago.naver.com/?sk=ko&tk=en'\n",
    "# sk=ko : Korean & tk=en : English\n",
    "\n",
    "driver.get(translate_url) \n",
    "print(driver.current_url)"
   ]
  },
  {
   "cell_type": "code",
   "execution_count": null,
   "metadata": {
    "cell_id": "cbf99ee30b024982af0aaa3f7b969b16",
    "deepnote_cell_type": "code",
    "deepnote_to_be_reexecuted": true,
    "source_hash": "683bd1e6"
   },
   "outputs": [],
   "source": [
    "driver.find_element_by_id('txtSource').send_keys('파이썬은 쉽습니다.') # Send_keys"
   ]
  },
  {
   "cell_type": "code",
   "execution_count": null,
   "metadata": {
    "cell_id": "d902e48265ec46e891f1124c1be44005",
    "deepnote_cell_type": "code",
    "deepnote_to_be_reexecuted": true,
    "source_hash": "bd9043f6"
   },
   "outputs": [],
   "source": [
    "translated_contents = driver.find_element_by_id('txtTarget')\n",
    "print(translated_contents.text)\n",
    "\n",
    "driver.close()\n",
    "driver.quit()"
   ]
  },
  {
   "cell_type": "markdown",
   "metadata": {
    "cell_id": "fed2550ad32145de8714842e1e177b76",
    "deepnote_cell_type": "markdown"
   },
   "source": [
    "<p>파파고 번역 웹사이트의 경우 번역 키워드 입력 후 번역된 결과가 노출될 때까지의 간격이 긴 편입니다.</p>\n",
    "<p>이를 일정한 시간(ex. 3초)으로 지정해 기다릴 경우 종종 <b>번역이 채 끝나지 않은 상태에서 잘못된 번역 결과를 가져오게 됩니다.</b></p>\n",
    "\n",
    "<br>\n",
    "\n",
    "<p>번역이 성공적으로 종료된 시점에만 눈 앞에 나타나는 어떠한 태그가 있을 경우, </p>\n",
    "<p>우리는 <b style='color:red;'>이 태그가 눈 앞에 나타날 때까지 대기하여 (특정한 시간만큼 기다리는 대신) 번역 완료 시까지 유동적으로 기다릴 수 있습니다.</b> </p>\n",
    "\n",
    "<br>\n",
    "\n",
    "<p>위 스크린샷에서 <b style='color:red;'>번역이 완료될 경우 나타나는 발음(diction)이 담긴 태그(\"diction_~\" class를 가진 p 태그)</b>가 바로 그러한 태그입니다.</p>\n",
    "<p>실제로 <b>위 p 태그는 매 번역 키워드 입력 시마다 잠시 동안 사라졌다가 번역이 마쳐지면 다시 나타납니다.</b></p>\n",
    "<p>우리는 아래 코드에서 <b>expected_conditions</b>를 활용해 이와 같은 <b style='color:red;'>특정한 태그의 로딩이 완료될 때까지 기다린 후</b> 번역 결과를 가져올 수 있습니다.</p>"
   ]
  },
  {
   "cell_type": "markdown",
   "metadata": {
    "cell_id": "4a9718f2b22d45a680ea3483e8445ffb",
    "deepnote_cell_type": "markdown"
   },
   "source": [
    "<hr>\n",
    "\n",
    "## 아래 cell 실행 후에는 가상브라우저를 화면 가장 앞에 띄워 활성화된 상태를 유지해주세요.\n",
    "\n",
    "<br>\n",
    "\n",
    "- 인터넷 환경 혹은 컴퓨터 환경(메모리 용량 등)에 따라 실행이 원활하지 않을 수 있습니다. (동일한 번역 결과값이 반복하여 출력됨)\n",
    "- 이러한 경우 Zoom 등 메모리를 많이 차지하는 프로그램들을 종료하고 높은 인터넷 속도가 확보된 상태에서 다시 시도해보시길 권장드립니다.\n",
    "\n",
    "<hr>"
   ]
  },
  {
   "cell_type": "code",
   "execution_count": null,
   "metadata": {
    "cell_id": "9cab4ce3f3194393911979a6263da962",
    "deepnote_cell_type": "code",
    "deepnote_to_be_reexecuted": true,
    "source_hash": "69ac0c08"
   },
   "outputs": [],
   "source": [
    "from selenium.webdriver.support.ui import WebDriverWait\n",
    "from selenium.webdriver.support import expected_conditions\n",
    "from selenium.webdriver.common.by import By\n",
    "\n",
    "\n",
    "translation_result_papago = {}\n",
    "\n",
    "service = Service(executable_path=ChromeDriverManager().install()) \n",
    "driver = webdriver.Chrome(service=service)\n",
    "\n",
    "translate_url = 'https://papago.naver.com/?sk=ko&tk=en'\n",
    "driver.get(translate_url) \n",
    "print(driver.current_url)\n",
    "time.sleep(3)\n",
    "    \n",
    "for key in translation_target: # 상위 100번째 빈도수에 해당하는 단어까지 담겨있는 dict\n",
    "    \n",
    "    driver.find_element_by_id('txtSource').clear()\n",
    "    driver.find_element_by_id('txtSource').send_keys(key)\n",
    "    time.sleep(3) # 네트워크의 속도에 따라 잠깐씩 쉬어주면서 진행합니다.\n",
    "\n",
    "    wait = WebDriverWait(driver, timeout=10) # timeout : 지정한 조건의 충족까지 대기할 최대 시간 (만약 10초 내에 충족되지 않으면 에러가 발생)\n",
    "    wait.until(expected_conditions.presence_of_element_located((By.CSS_SELECTOR, \"#targetEditArea > p\"))) # #은 id이고 >는 부모 태그 안의~ 라는 뜻이다.\n",
    "    # 위 CSS Selector로 지정한 Tag의 존재가 포착될 때까지 대기 후 아래 코드를 실행 (가능한 조건 전체 목록 @ https://j.mp/3mCnc5G)\n",
    "    \n",
    "    translated_contents = driver.find_element_by_id('txtTarget').text\n",
    "    \n",
    "    translation_result_papago[translated_contents] = translation_target[key] # 번역이 완료된 단어 dict의 value로 기존 dict의 value를 꽂아줍니다.\n",
    "    print('단어 {}의 번역 완료 : {}'.format(key, translated_contents))\n",
    "\n",
    "print('전체 번역이 끝났습니다!')\n",
    "\n",
    "driver.close()\n",
    "driver.quit()"
   ]
  },
  {
   "cell_type": "markdown",
   "metadata": {
    "cell_id": "a0d66db0e6ae4b6c9e685c3f016a730a",
    "deepnote_cell_type": "markdown"
   },
   "source": [
    "<br>\n",
    "\n",
    "## (Appendix 2) 인터파크 투어 크롤링 예시"
   ]
  },
  {
   "cell_type": "code",
   "execution_count": null,
   "metadata": {
    "cell_id": "1f485ec1ffbf4100ba123ea4e346d718",
    "deepnote_cell_type": "code",
    "deepnote_to_be_reexecuted": true,
    "source_hash": "47a6c6b7"
   },
   "outputs": [],
   "source": [
    "print('http://tour.interpark.com/')"
   ]
  },
  {
   "cell_type": "code",
   "execution_count": null,
   "metadata": {
    "cell_id": "1346e22834e24fcab654149d32a771f8",
    "deepnote_cell_type": "code",
    "deepnote_to_be_reexecuted": true,
    "source_hash": "1be7c053"
   },
   "outputs": [],
   "source": [
    "service = Service(executable_path=ChromeDriverManager().install()) \n",
    "driver = webdriver.Chrome(service=service)\n",
    "\n",
    "driver.get('http://tour.interpark.com/')\n",
    "driver.current_url"
   ]
  },
  {
   "cell_type": "code",
   "execution_count": null,
   "metadata": {
    "cell_id": "136677e7155d4b218b03f054ccfebab8",
    "deepnote_cell_type": "code",
    "deepnote_to_be_reexecuted": true,
    "source_hash": "9512ce5b"
   },
   "outputs": [],
   "source": [
    "driver.find_element_by_id('SearchGNBText').send_keys('보라카이')\n",
    "driver.find_element_by_class_name('search-btn').click()"
   ]
  },
  {
   "cell_type": "code",
   "execution_count": null,
   "metadata": {
    "cell_id": "d86618b9d3834333bdc3075a7354bc6d",
    "deepnote_cell_type": "code",
    "deepnote_to_be_reexecuted": true,
    "source_hash": "fb219c49"
   },
   "outputs": [],
   "source": [
    "# driver.implicitly_wait(5)"
   ]
  },
  {
   "cell_type": "code",
   "execution_count": null,
   "metadata": {
    "cell_id": "2f9264367abf44f6a21e08d0e5201b45",
    "deepnote_cell_type": "code",
    "deepnote_to_be_reexecuted": true,
    "source_hash": "6b0dec8d"
   },
   "outputs": [],
   "source": [
    "driver.page_source"
   ]
  },
  {
   "cell_type": "code",
   "execution_count": null,
   "metadata": {
    "cell_id": "1f7d88e81fdf4e12b0c2e7f819d2fc12",
    "deepnote_cell_type": "code",
    "deepnote_to_be_reexecuted": true,
    "source_hash": "e4c9cbaa"
   },
   "outputs": [],
   "source": [
    "web_page = BeautifulSoup(driver.page_source, 'html.parser')\n",
    "# web_page"
   ]
  },
  {
   "cell_type": "code",
   "execution_count": null,
   "metadata": {
    "cell_id": "446102fd933047ccb981326d8fb64d43",
    "deepnote_cell_type": "code",
    "deepnote_to_be_reexecuted": true,
    "source_hash": "fc7399fa"
   },
   "outputs": [],
   "source": [
    "driver.find_element_by_class_name('moreBtn').click()\n",
    "#이후에 find elements로 각 여행지의 링크를 저장한 뒤, request로 활용?"
   ]
  },
  {
   "cell_type": "code",
   "execution_count": 18,
   "metadata": {
    "cell_id": "d5e3d22742c4456c931e7aa2e8485c5d",
    "deepnote_cell_type": "code",
    "deepnote_to_be_reexecuted": false,
    "execution_millis": 1074,
    "execution_start": 1680142755091,
    "source_hash": "920d55d4"
   },
   "outputs": [
    {
     "name": "stdout",
     "output_type": "stream",
     "text": [
      "['html', <html lang=\"ko\"><head><title>인터파크 투어</title><meta charset=\"utf-8\"/><meta content=\"width=device-width,initial-scale=1,shrink-to-fit=no\" name=\"viewport\"/><meta content=\"인터파크 투어\" name=\"description\"/><meta content=\"INTERPARK\" name=\"author\"/><meta content=\"IE=edge\" http-equiv=\"X-UA-Compatible\"/><meta content=\"telephone=no\" name=\"format-detection\"/><meta content=\"tour\" name=\"service\"/><meta content=\"standard\" name=\"compatibility\"/><meta content=\"1280\" name=\"containerWidth\"/><link href=\"//openimage.interpark.com/tourpark/tour/common/interparkn.ico\" rel=\"shortcut icon\"/><script charset=\"euc-kr\" src=\"//tour.interpark.com/global/js/common.js\" type=\"text/javascript\"></script><script charset=\"euc-kr\" src=\"//tour.interpark.com/global/js/gate.js\" type=\"text/javascript\"></script><script src=\"/scripts/jquery-1.12.4.min-4f252523d4af0b478c810c2547a63e19.js\" type=\"text/javascript\"></script><script src=\"/scripts/jquery.nstSlider.min-2302ae9581569f59631b2fd8b5f6d8c0.js\" type=\"text/javascript\"></script><script src=\"/scripts/search_marketing-f8f642e061e15b5d429c3514be506914.js\" type=\"text/javascript\"></script><script>// IE 크로스브라우징\n",
      "      if (!(window.console && window.console.log)) {\n",
      "        window.console = {\n",
      "          log: function () {},\n",
      "          debug: function () {},\n",
      "          info: function () {},\n",
      "          warn: function () {},\n",
      "          error: function () {},\n",
      "        };\n",
      "      }</script><link href=\"/scripts/search/desktop/css/chunk.app.css?v=f06b6c177ed47fee6ea2\" rel=\"stylesheet\"/></head><body><header class=\"tourHeader\" id=\"dHead\" style=\"display: none\"></header><script src=\"//tour.interpark.com/global/js/html/headArea.js\" type=\"text/javascript\"></script><div id=\"app\"></div><script>if (window.SearchMarketing)\n",
      "        SearchMarketing.total_init('투어통합검색_PC', 'pc');</script><script>var $j = jQuery.noConflict();\n",
      "      var $ = jQuery.noConflict();</script><div id=\"footArea\" style=\"display: none\"><script charset=\"euc-kr\" src=\"//tour.interpark.com/global/js/html/footArea_N.js\" type=\"text/javascript\"></script></div><script src=\"/scripts/search/desktop/js/manifest.js?v=f06b6c177ed47fee6ea2\" type=\"text/javascript\"></script><script src=\"/scripts/search/desktop/js/chunk.app.js?v=f06b6c177ed47fee6ea2\" type=\"text/javascript\"></script></body></html>]\n",
      "None\n"
     ]
    },
    {
     "ename": "TypeError",
     "evalue": "'NoneType' object is not iterable",
     "output_type": "error",
     "traceback": [
      "\u001b[0;31m---------------------------------------------------------------------------\u001b[0m",
      "\u001b[0;31mTypeError\u001b[0m                                 Traceback (most recent call last)",
      "Cell \u001b[0;32mIn [18], line 16\u001b[0m\n\u001b[1;32m     13\u001b[0m prd_date_end_list \u001b[38;5;241m=\u001b[39m []\n\u001b[1;32m     14\u001b[0m prd_img_src_list \u001b[38;5;241m=\u001b[39m []\n\u001b[0;32m---> 16\u001b[0m \u001b[38;5;28;01mfor\u001b[39;00m product \u001b[38;5;129;01min\u001b[39;00m products:\n\u001b[1;32m     17\u001b[0m     product_title \u001b[38;5;241m=\u001b[39m product\u001b[38;5;241m.\u001b[39mfind(\u001b[38;5;124m'\u001b[39m\u001b[38;5;124mh5\u001b[39m\u001b[38;5;124m'\u001b[39m,{\u001b[38;5;124m'\u001b[39m\u001b[38;5;124mclass\u001b[39m\u001b[38;5;124m'\u001b[39m:\u001b[38;5;124m'\u001b[39m\u001b[38;5;124minfoTitle\u001b[39m\u001b[38;5;124m'\u001b[39m}) \u001b[38;5;66;03m#상품 제목\u001b[39;00m\n\u001b[1;32m     18\u001b[0m     product_price \u001b[38;5;241m=\u001b[39m product\u001b[38;5;241m.\u001b[39mfind(\u001b[38;5;124m'\u001b[39m\u001b[38;5;124mstrong\u001b[39m\u001b[38;5;124m'\u001b[39m) \u001b[38;5;66;03m#금액\u001b[39;00m\n",
      "\u001b[0;31mTypeError\u001b[0m: 'NoneType' object is not iterable"
     ]
    }
   ],
   "source": [
    "headers = {'User-Agent':'Mozilla/5.0 (Windows NT 10.0; Win64; x64) AppleWebKit/537.36 (KHTML, like Gecko) Chrome/108.0.0.0 Safari/537.36'}\n",
    "web = requests.get('https://search-travel.interpark.com/search?q=보라카이&cateCode=tourR', headers = headers).content #왜 크롤링이 안되는지..\n",
    "requests.get()\n",
    "web_page = BeautifulSoup(web, 'html.parser')\n",
    "#web_page = BeautifulSoup(driver.page_source, 'html.parser')\n",
    "print(web_page.contents)\n",
    "products = web_page.find('ul', {'id':'boxList'})\n",
    "print(products)\n",
    "#.find_all('li', {'class':'boxItem'})\n",
    "\n",
    "prd_title_list = []\n",
    "prd_price_list = []\n",
    "prd_date_start_list = []\n",
    "prd_date_end_list = []\n",
    "prd_img_src_list = []\n",
    "\n",
    "for product in products:\n",
    "    product_title = product.find('h5',{'class':'infoTitle'}) #상품 제목\n",
    "    product_price = product.find('strong') #금액\n",
    "    product_date = product.find_all('p', {'class':'info'})[1].split(':').strip().split('~') #출발가능기간\n",
    "    product_date_start = product_date[0]\n",
    "    product_date_end = product_date[1]\n",
    "    product_img_src = product.find('img').attrs['src']\n",
    "\n",
    "    prd_title_list.append(product_title)\n",
    "    prd_price_list.append(product_price)\n",
    "    prd_date_start_list.append(product_date_start)\n",
    "    prd_date_end_list.append(product_date_end)\n",
    "    prd_img_src_list.append(product_img_src)\n",
    "\n",
    "df. pd.DataFrame({'product_title': prd_title_list,\n",
    "                    'product_price' : prd_price_list,\n",
    "                    'product_start' : prd_date_start_list,\n",
    "                    'product_end' : prd_date_end_list,\n",
    "                    'product_image' : prd_img_src_list\n",
    "                    })\n",
    "df.head()\n"
   ]
  },
  {
   "cell_type": "code",
   "execution_count": null,
   "metadata": {
    "cell_id": "b0aae3e97f264ec7ac8283387c1cd571",
    "deepnote_cell_type": "code",
    "deepnote_to_be_reexecuted": true,
    "source_hash": "fc17306f"
   },
   "outputs": [],
   "source": [
    "# 2페이지로 페이지 변경\n",
    "\n",
    "driver.find_element_by_xpath('/html/body/div[3]/div/div[1]/div[2]/div[3]/div[2]/div[3]/ul/li[2]').click()"
   ]
  },
  {
   "cell_type": "code",
   "execution_count": null,
   "metadata": {
    "cell_id": "d16ae0813ad34b7f824b36bbfa2a02dd",
    "deepnote_cell_type": "code",
    "deepnote_to_be_reexecuted": true,
    "source_hash": "409e3769"
   },
   "outputs": [],
   "source": [
    "# 1페이지로 페이지 변경\n",
    "\n",
    "# driver.find_element_by_xpath('/html/body/div[3]/div/div[1]/div[2]/div[3]/div[2]/div[3]/ul/li[1]').click()"
   ]
  },
  {
   "cell_type": "code",
   "execution_count": null,
   "metadata": {
    "cell_id": "16c0313e0ac74d619cf0ff16f216facf",
    "deepnote_cell_type": "code",
    "deepnote_to_be_reexecuted": true,
    "source_hash": "75f21aa4"
   },
   "outputs": [],
   "source": [
    "driver.close()\n",
    "driver.quit()"
   ]
  },
  {
   "cell_type": "markdown",
   "metadata": {
    "cell_id": "4c04c5215dff4d6d8c3f60b0bc3c752e",
    "deepnote_cell_type": "markdown"
   },
   "source": [
    "<br>\n",
    "\n",
    "## (Appendix 3) Selenium - Headless mode "
   ]
  },
  {
   "cell_type": "code",
   "execution_count": null,
   "metadata": {
    "cell_id": "9c2818e9f7a44495b9d8e7213afd2b32",
    "deepnote_cell_type": "code",
    "deepnote_to_be_reexecuted": true,
    "source_hash": "b1583260"
   },
   "outputs": [],
   "source": [
    "from selenium.webdriver.chrome.options import Options\n",
    "\n",
    "options = Options()\n",
    "options.headless = True"
   ]
  },
  {
   "cell_type": "code",
   "execution_count": null,
   "metadata": {
    "cell_id": "58f1bbd3b72741af8071122bbcc2fd15",
    "deepnote_cell_type": "code",
    "deepnote_to_be_reexecuted": true,
    "source_hash": "90ae405f"
   },
   "outputs": [],
   "source": [
    "service = Service(executable_path=ChromeDriverManager().install()) \n",
    "driver = webdriver.Chrome(service=service, options=options)\n",
    "\n",
    "driver.get('http://tour.interpark.com/')\n",
    "time.sleep(2)\n",
    "print(driver.current_url)\n",
    "\n",
    "driver.find_element_by_id('SearchGNBText').send_keys('보라카이')\n",
    "driver.find_element_by_class_name('search-btn').click()\n",
    "time.sleep(2)\n",
    "\n",
    "driver.find_element_by_class_name('moreBtn').click()\n",
    "time.sleep(2)\n",
    "\n",
    "web_page = BeautifulSoup(driver.page_source, 'html.parser')\n",
    "items = web_page.find('ul', {'id':'boxList'}).find_all('li', {'class':'boxItem'})\n",
    "for item in items:\n",
    "    print(item.find('h5', {'class':'infoTitle'}))\n",
    "\n",
    "driver.close()\n",
    "driver.quit()"
   ]
  },
  {
   "cell_type": "code",
   "execution_count": null,
   "metadata": {
    "cell_id": "5d6b30bbbd57408883dc8f1a7a4faab8",
    "deepnote_cell_type": "code",
    "deepnote_to_be_reexecuted": true,
    "source_hash": "b623e53d"
   },
   "outputs": [],
   "source": []
  },
  {
   "cell_type": "markdown",
   "metadata": {
    "created_in_deepnote_cell": true,
    "deepnote_cell_type": "markdown"
   },
   "source": [
    "<a style='text-decoration:none;line-height:16px;display:flex;color:#5B5B62;padding:10px;justify-content:end;' href='https://deepnote.com?utm_source=created-in-deepnote-cell&projectId=b844bbc7-67c4-4320-a052-bd9703f8a211' target=\"_blank\">\n",
    "<img alt='Created in deepnote.com' style='display:inline;max-height:16px;margin:0px;margin-right:7.5px;' src='data:image/svg+xml;base64,PD94bWwgdmVyc2lvbj0iMS4wIiBlbmNvZGluZz0iVVRGLTgiPz4KPHN2ZyB3aWR0aD0iODBweCIgaGVpZ2h0PSI4MHB4IiB2aWV3Qm94PSIwIDAgODAgODAiIHZlcnNpb249IjEuMSIgeG1sbnM9Imh0dHA6Ly93d3cudzMub3JnLzIwMDAvc3ZnIiB4bWxuczp4bGluaz0iaHR0cDovL3d3dy53My5vcmcvMTk5OS94bGluayI+CiAgICA8IS0tIEdlbmVyYXRvcjogU2tldGNoIDU0LjEgKDc2NDkwKSAtIGh0dHBzOi8vc2tldGNoYXBwLmNvbSAtLT4KICAgIDx0aXRsZT5Hcm91cCAzPC90aXRsZT4KICAgIDxkZXNjPkNyZWF0ZWQgd2l0aCBTa2V0Y2guPC9kZXNjPgogICAgPGcgaWQ9IkxhbmRpbmciIHN0cm9rZT0ibm9uZSIgc3Ryb2tlLXdpZHRoPSIxIiBmaWxsPSJub25lIiBmaWxsLXJ1bGU9ImV2ZW5vZGQiPgogICAgICAgIDxnIGlkPSJBcnRib2FyZCIgdHJhbnNmb3JtPSJ0cmFuc2xhdGUoLTEyMzUuMDAwMDAwLCAtNzkuMDAwMDAwKSI+CiAgICAgICAgICAgIDxnIGlkPSJHcm91cC0zIiB0cmFuc2Zvcm09InRyYW5zbGF0ZSgxMjM1LjAwMDAwMCwgNzkuMDAwMDAwKSI+CiAgICAgICAgICAgICAgICA8cG9seWdvbiBpZD0iUGF0aC0yMCIgZmlsbD0iIzAyNjVCNCIgcG9pbnRzPSIyLjM3NjIzNzYyIDgwIDM4LjA0NzY2NjcgODAgNTcuODIxNzgyMiA3My44MDU3NTkyIDU3LjgyMTc4MjIgMzIuNzU5MjczOSAzOS4xNDAyMjc4IDMxLjY4MzE2ODMiPjwvcG9seWdvbj4KICAgICAgICAgICAgICAgIDxwYXRoIGQ9Ik0zNS4wMDc3MTgsODAgQzQyLjkwNjIwMDcsNzYuNDU0OTM1OCA0Ny41NjQ5MTY3LDcxLjU0MjI2NzEgNDguOTgzODY2LDY1LjI2MTk5MzkgQzUxLjExMjI4OTksNTUuODQxNTg0MiA0MS42NzcxNzk1LDQ5LjIxMjIyODQgMjUuNjIzOTg0Niw0OS4yMTIyMjg0IEMyNS40ODQ5Mjg5LDQ5LjEyNjg0NDggMjkuODI2MTI5Niw0My4yODM4MjQ4IDM4LjY0NzU4NjksMzEuNjgzMTY4MyBMNzIuODcxMjg3MSwzMi41NTQ0MjUgTDY1LjI4MDk3Myw2Ny42NzYzNDIxIEw1MS4xMTIyODk5LDc3LjM3NjE0NCBMMzUuMDA3NzE4LDgwIFoiIGlkPSJQYXRoLTIyIiBmaWxsPSIjMDAyODY4Ij48L3BhdGg+CiAgICAgICAgICAgICAgICA8cGF0aCBkPSJNMCwzNy43MzA0NDA1IEwyNy4xMTQ1MzcsMC4yNTcxMTE0MzYgQzYyLjM3MTUxMjMsLTEuOTkwNzE3MDEgODAsMTAuNTAwMzkyNyA4MCwzNy43MzA0NDA1IEM4MCw2NC45NjA0ODgyIDY0Ljc3NjUwMzgsNzkuMDUwMzQxNCAzNC4zMjk1MTEzLDgwIEM0Ny4wNTUzNDg5LDc3LjU2NzA4MDggNTMuNDE4MjY3Nyw3MC4zMTM2MTAzIDUzLjQxODI2NzcsNTguMjM5NTg4NSBDNTMuNDE4MjY3Nyw0MC4xMjg1NTU3IDM2LjMwMzk1NDQsMzcuNzMwNDQwNSAyNS4yMjc0MTcsMzcuNzMwNDQwNSBDMTcuODQzMDU4NiwzNy43MzA0NDA1IDkuNDMzOTE5NjYsMzcuNzMwNDQwNSAwLDM3LjczMDQ0MDUgWiIgaWQ9IlBhdGgtMTkiIGZpbGw9IiMzNzkzRUYiPjwvcGF0aD4KICAgICAgICAgICAgPC9nPgogICAgICAgIDwvZz4KICAgIDwvZz4KPC9zdmc+' > </img>\n",
    "Created in <span style='font-weight:600;margin-left:4px;'>Deepnote</span></a>"
   ]
  }
 ],
 "metadata": {
  "deepnote_notebook_id": "3e2ea3bedca44b1b95e43aff9d1cf1e1",
  "deepnote_persisted_session": {
   "createdAt": "2023-03-30T02:45:07.931Z"
  },
  "kernelspec": {
   "display_name": "Python 3 (ipykernel)",
   "language": "python",
   "name": "python3"
  },
  "language_info": {
   "codemirror_mode": {
    "name": "ipython",
    "version": 3
   },
   "file_extension": ".py",
   "mimetype": "text/x-python",
   "name": "python",
   "nbconvert_exporter": "python",
   "pygments_lexer": "ipython3",
   "version": "3.8.10"
  }
 },
 "nbformat": 4,
 "nbformat_minor": 4
}
